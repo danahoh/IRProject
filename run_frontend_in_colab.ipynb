{
  "nbformat": 4,
  "nbformat_minor": 0,
  "metadata": {
    "colab": {
      "name": "run_frontend_in_colab.ipynb",
      "provenance": [],
      "collapsed_sections": [],
      "include_colab_link": true
    },
    "kernelspec": {
      "name": "python3",
      "display_name": "Python 3"
    },
    "language_info": {
      "name": "python"
    }
  },
  "cells": [
    {
      "cell_type": "markdown",
      "metadata": {
        "id": "view-in-github",
        "colab_type": "text"
      },
      "source": [
        "<a href=\"https://colab.research.google.com/github/NavitB/IRProject/blob/main/run_frontend_in_colab.ipynb\" target=\"_parent\"><img src=\"https://colab.research.google.com/assets/colab-badge.svg\" alt=\"Open In Colab\"/></a>"
      ]
    },
    {
      "cell_type": "code",
      "source": [
        "# download nltk stopwords\n",
        "import nltk\n",
        "nltk.download('stopwords')"
      ],
      "metadata": {
        "id": "bCPDHP7zTQJZ",
        "colab": {
          "base_uri": "https://localhost:8080/"
        },
        "outputId": "858eb073-8a58-4717-8566-34c471a63cb7"
      },
      "execution_count": 1,
      "outputs": [
        {
          "output_type": "stream",
          "name": "stdout",
          "text": [
            "[nltk_data] Downloading package stopwords to /root/nltk_data...\n",
            "[nltk_data]   Package stopwords is already up-to-date!\n"
          ]
        },
        {
          "output_type": "execute_result",
          "data": {
            "text/plain": [
              "True"
            ]
          },
          "metadata": {},
          "execution_count": 1
        }
      ]
    },
    {
      "cell_type": "code",
      "source": [
        "# Install a particular version of `google-cloud-storage` because (oddly enough) \n",
        "# the  version on Colab and GCP is old. A dependency error below is okay.\n",
        "!pip install -q google-cloud-storage==1.43.0"
      ],
      "metadata": {
        "id": "lAt6KT8xOgHH"
      },
      "execution_count": 2,
      "outputs": []
    },
    {
      "cell_type": "code",
      "source": [
        "# authenticate below for Google Storage access as needed\n",
        "from google.colab import auth\n",
        "auth.authenticate_user()"
      ],
      "metadata": {
        "id": "-oKFly5jFLFn"
      },
      "execution_count": 3,
      "outputs": []
    },
    {
      "cell_type": "code",
      "source": [
        "# install ngrok to emulate public IP / address\n",
        "!wget -N https://bin.equinox.io/c/4VmDzA7iaHb/ngrok-stable-linux-amd64.zip -O ngrok-stable-linux-amd64.zip\n",
        "!unzip -u ngrok-stable-linux-amd64.zip"
      ],
      "metadata": {
        "id": "FrBdFNYgiyab",
        "colab": {
          "base_uri": "https://localhost:8080/"
        },
        "outputId": "4f745c76-0336-4be2-be66-93c22d42c0df"
      },
      "execution_count": 4,
      "outputs": [
        {
          "output_type": "stream",
          "name": "stdout",
          "text": [
            "WARNING: timestamping does nothing in combination with -O. See the manual\n",
            "for details.\n",
            "\n",
            "--2022-01-06 21:17:05--  https://bin.equinox.io/c/4VmDzA7iaHb/ngrok-stable-linux-amd64.zip\n",
            "Resolving bin.equinox.io (bin.equinox.io)... 54.161.241.46, 52.202.168.65, 54.237.133.81, ...\n",
            "Connecting to bin.equinox.io (bin.equinox.io)|54.161.241.46|:443... connected.\n",
            "HTTP request sent, awaiting response... 200 OK\n",
            "Length: 13832437 (13M) [application/octet-stream]\n",
            "Saving to: ‘ngrok-stable-linux-amd64.zip’\n",
            "\n",
            "ngrok-stable-linux- 100%[===================>]  13.19M  8.34MB/s    in 1.6s    \n",
            "\n",
            "2022-01-06 21:17:06 (8.34 MB/s) - ‘ngrok-stable-linux-amd64.zip’ saved [13832437/13832437]\n",
            "\n",
            "Archive:  ngrok-stable-linux-amd64.zip\n"
          ]
        }
      ]
    },
    {
      "cell_type": "code",
      "source": [
        "# TODO: sign up for an ngrok account\n",
        "# then put your ngrok token below, uncomment, and execute\n",
        "# !./ngrok authtoken YOUR_NGROK_TOKEN_HERE"
      ],
      "metadata": {
        "id": "xA-_dKEZbsXW"
      },
      "execution_count": 5,
      "outputs": []
    },
    {
      "cell_type": "code",
      "execution_count": 6,
      "metadata": {
        "id": "nXn5PlyGORQr"
      },
      "outputs": [],
      "source": [
        "# install a ngrok python package and a version of flask that works with it in \n",
        "# colab\n",
        "!pip -q install flask-ngrok\n",
        "!pip -q install flask==0.12.2\n",
        "# !pip -q install flask_restful"
      ]
    },
    {
      "cell_type": "code",
      "source": [
        "import sys\n",
        "from collections import Counter, OrderedDict\n",
        "import itertools\n",
        "from itertools import islice, count, groupby\n",
        "import pandas as pd\n",
        "import os\n",
        "import re\n",
        "from operator import itemgetter\n",
        "import nltk\n",
        "from nltk.stem.porter import *\n",
        "from nltk.corpus import stopwords\n",
        "from time import time\n",
        "from timeit import timeit\n",
        "from pathlib import Path\n",
        "import pickle\n",
        "import pandas as pd\n",
        "import numpy as np\n",
        "import math\n",
        "import builtins\n",
        "from google.cloud import storage\n",
        "\n",
        "import hashlib\n",
        "def _hash(s):\n",
        "    return hashlib.blake2b(bytes(s, encoding='utf8'), digest_size=5).hexdigest()\n",
        "\n",
        "nltk.download('stopwords')\n",
        "\n",
        "from inverted_index_colab import *"
      ],
      "metadata": {
        "colab": {
          "base_uri": "https://localhost:8080/"
        },
        "id": "JyPOiIYZ8zPz",
        "outputId": "42369f1a-348d-449f-917c-54617cf19d24"
      },
      "execution_count": 7,
      "outputs": [
        {
          "output_type": "stream",
          "name": "stdout",
          "text": [
            "[nltk_data] Downloading package stopwords to /root/nltk_data...\n",
            "[nltk_data]   Package stopwords is already up-to-date!\n"
          ]
        }
      ]
    },
    {
      "cell_type": "code",
      "source": [
        "# These will already be installed in the testing environment so disregard the \n",
        "# amount of time (~1 minute) it takes to install. \n",
        "!pip install -q pyspark\n",
        "!pip install -U -q PyDrive\n",
        "!apt install openjdk-8-jdk-headless -qq\n",
        "!pip install -q graphframes\n",
        "import os\n",
        "os.environ[\"JAVA_HOME\"] = \"/usr/lib/jvm/java-8-openjdk-amd64\"\n",
        "graphframes_jar = 'https://repos.spark-packages.org/graphframes/graphframes/0.8.2-spark3.2-s_2.12/graphframes-0.8.2-spark3.2-s_2.12.jar'\n",
        "spark_jars = '/usr/local/lib/python3.7/dist-packages/pyspark/jars'\n",
        "!wget -N -P $spark_jars $graphframes_jar"
      ],
      "metadata": {
        "colab": {
          "base_uri": "https://localhost:8080/"
        },
        "id": "EgYhHk_F_hyH",
        "outputId": "139c30d5-579a-4078-ec24-b0a010e5e329"
      },
      "execution_count": 8,
      "outputs": [
        {
          "output_type": "stream",
          "name": "stdout",
          "text": [
            "openjdk-8-jdk-headless is already the newest version (8u312-b07-0ubuntu1~18.04).\n",
            "0 upgraded, 0 newly installed, 0 to remove and 59 not upgraded.\n",
            "--2022-01-06 21:17:26--  https://repos.spark-packages.org/graphframes/graphframes/0.8.2-spark3.2-s_2.12/graphframes-0.8.2-spark3.2-s_2.12.jar\n",
            "Resolving repos.spark-packages.org (repos.spark-packages.org)... 13.32.87.12, 13.32.87.63, 13.32.87.68, ...\n",
            "Connecting to repos.spark-packages.org (repos.spark-packages.org)|13.32.87.12|:443... connected.\n",
            "HTTP request sent, awaiting response... 304 Not Modified\n",
            "File ‘/usr/local/lib/python3.7/dist-packages/pyspark/jars/graphframes-0.8.2-spark3.2-s_2.12.jar’ not modified on server. Omitting download.\n",
            "\n"
          ]
        }
      ]
    },
    {
      "cell_type": "code",
      "source": [
        "import pyspark\n",
        "from pyspark.sql import *\n",
        "from pyspark.sql.functions import *\n",
        "from pyspark import SparkContext, SparkConf\n",
        "from pyspark.sql import SQLContext\n",
        "from pyspark.ml.feature import Tokenizer, RegexTokenizer\n",
        "from graphframes import *"
      ],
      "metadata": {
        "id": "_xJmN6U__m5H"
      },
      "execution_count": 9,
      "outputs": []
    },
    {
      "cell_type": "code",
      "source": [
        "!pip install -q pyspark\n",
        "!pip install -U -q PyDrive\n",
        "!apt-get update -qq\n",
        "!apt install openjdk-8-jdk-headless -qq"
      ],
      "metadata": {
        "colab": {
          "base_uri": "https://localhost:8080/"
        },
        "id": "QPNFKOr1_tF2",
        "outputId": "ed77b127-4ef5-4e86-8179-25682aeb8dff"
      },
      "execution_count": 10,
      "outputs": [
        {
          "output_type": "stream",
          "name": "stdout",
          "text": [
            "openjdk-8-jdk-headless is already the newest version (8u312-b07-0ubuntu1~18.04).\n",
            "0 upgraded, 0 newly installed, 0 to remove and 59 not upgraded.\n"
          ]
        }
      ]
    },
    {
      "cell_type": "code",
      "source": [
        "# Initializing spark context\n",
        "# create a spark context and session\n",
        "conf = SparkConf().set(\"spark.ui.port\", \"4050\")\n",
        "sc = pyspark.SparkContext(conf=conf)\n",
        "sc.addPyFile(str(Path(spark_jars) / Path(graphframes_jar).name))\n",
        "spark = SparkSession.builder.getOrCreate()"
      ],
      "metadata": {
        "id": "_sMbNWD1_wJl"
      },
      "execution_count": 11,
      "outputs": []
    },
    {
      "cell_type": "code",
      "source": [
        "pandasDf = pd.read_csv(\"/content/newdata.csv\")\n",
        "pandasDf = pandasDf.drop(columns = \"Unnamed: 0\")\n",
        "df_data = spark.createDataFrame(pandasDf)\n",
        "# df_data_rdd = df_data.rdd\n",
        "# print(df_data_rdd.take(1))\n",
        "id_text = df_data.select('id','text')\n",
        "id_title = df_data.select('id','title')\n",
        "id_anchor = df_data.select('id', 'anchor_text')\n",
        "# id_text = id_text.toPandas()\n",
        "# lst = [id_text.loc[id_text['id'] == 723126]['text']]\n",
        "# print(lst)\n",
        "\n",
        "\n",
        "id_text = id_text.rdd\n",
        "id_title = id_title.rdd\n",
        "id_anchor = id_anchor.rdd\n",
        "# print(id_anchor.take(2))\n",
        "# print(id_text.take(1))\n",
        "# print(id_title.take(5))\n",
        "inverted_text = InvertedIndex()\n",
        "inverted_title = InvertedIndex()"
      ],
      "metadata": {
        "id": "HW0xpeW6_7Pt"
      },
      "execution_count": 12,
      "outputs": []
    },
    {
      "cell_type": "code",
      "source": [
        "english_stopwords = frozenset(stopwords.words('english'))\n",
        "corpus_stopwords = ['category', 'references', 'also', 'links', 'extenal', 'see', 'thumb']\n",
        "RE_WORD = re.compile(r\"\"\"[\\#\\@\\w](['\\-]?\\w){2,24}\"\"\", re.UNICODE)\n",
        "\n",
        "all_stopwords = english_stopwords.union(corpus_stopwords)\n",
        "\n",
        "def word_count(id, text):\n",
        "  ''' Count the frequency of each word in `text` (tf) that is not included in \n",
        "  `all_stopwords` and return entries that will go into our posting lists. \n",
        "  Parameters:\n",
        "  -----------\n",
        "    text: str\n",
        "      Text of one document\n",
        "    id: int\n",
        "      Document id\n",
        "  Returns:\n",
        "  --------\n",
        "    List of tuples\n",
        "      A list of (token, (doc_id, tf)) pairs \n",
        "      for example: [(\"Anarchism\", (12, 5)), ...]\n",
        "  '''\n",
        "  tokens = [token.group() for token in RE_WORD.finditer(text.lower())]\n",
        "  tokens = [token.group() for token in RE_WORD.finditer(text.lower())]\n",
        "  tokens = [x for x in tokens if x not in all_stopwords]\n",
        "  tuples = []\n",
        "  tf_dict = Counter(tokens)\n",
        "  res = []\n",
        "  [res.append(x) for x in tokens if x not in res]\n",
        "  for t in res:\n",
        "    tuples.append((t,(id,tf_dict[t])))\n",
        "  return tuples"
      ],
      "metadata": {
        "id": "VGrg-Mg9C4sg"
      },
      "execution_count": 13,
      "outputs": []
    },
    {
      "cell_type": "code",
      "source": [
        "def count_doc_len(doc_id, text):\n",
        "  tokens = [token.group() for token in RE_WORD.finditer(text.lower())]\n",
        "  tokens = [token.group() for token in RE_WORD.finditer(text.lower())]\n",
        "  tokens = [x for x in tokens if x not in all_stopwords]\n",
        "  return (doc_id,len(tokens))\n",
        "\n"
      ],
      "metadata": {
        "id": "jzBO-_laslUG"
      },
      "execution_count": 14,
      "outputs": []
    },
    {
      "cell_type": "code",
      "source": [
        "def tf_for_term_id(doc_id, text):\n",
        "  tokens = [token.group() for token in RE_WORD.finditer(text.lower())]\n",
        "  tokens = [token.group() for token in RE_WORD.finditer(text.lower())]\n",
        "  tokens = [x for x in tokens if x not in all_stopwords]\n",
        "  tuples = []\n",
        "  tf_dict = Counter(tokens)\n",
        "  res = []\n",
        "  [res.append(x) for x in tokens if x not in res]\n",
        "  for t in res:\n",
        "    tuples.append((t,tf_dict[t]))\n",
        "  return tuples"
      ],
      "metadata": {
        "id": "AfH-AWVcmjnF"
      },
      "execution_count": 15,
      "outputs": []
    },
    {
      "cell_type": "code",
      "source": [
        "word_counts_text = id_text.flatMap(lambda x: word_count(x[0], x[1]))\n",
        "word_counts_title = id_title.flatMap(lambda x: word_count(x[0], x[1]))\n",
        "\n",
        "len_docs_text = id_text.map(lambda x: count_doc_len(x[0], x[1]))\n",
        "len_docs_text = len_docs_text.collectAsMap()\n",
        "inverted_text.DL = len_docs_text\n",
        "\n",
        "len_docs_title = id_title.map(lambda x: count_doc_len(x[0], x[1]))\n",
        "len_docs_title = len_docs_title.collectAsMap()\n",
        "inverted_title.DL = len_docs_title\n",
        "\n",
        "\n",
        "\n",
        "anchor_text = id_anchor.map(lambda r : r['anchor_text'])\n",
        "# # .reduce(lambda x, y : x['text'] + y['text'])\n",
        "# # print(\n",
        "# one = anchor_text.take(1)\n",
        "# print(one)\n",
        "# # flat_anchor = id_anchor.flatMap(lambda x : x.flatMap)\n",
        "# numbers = sc.parallelize([1,7,8,9,5,77,48])\n",
        "# print(numbers.take(5))\n",
        "# print(id_anchor.take(2))\n",
        "# word_counts_anchor = id_anchor.flatMap(lambda x: word_count(x[0], x[1].reduce(lambda x,y : x +\" \" + y)))\n",
        "# # print(word_counts_title.take(1))\n",
        "# # print(word_counts_anchor.take(1))\n",
        "# #print(word_counts_anchor.take(1))"
      ],
      "metadata": {
        "id": "0K8h7eNQPPD0"
      },
      "execution_count": 16,
      "outputs": []
    },
    {
      "cell_type": "code",
      "source": [
        "def reduce_word_counts(unsorted_pl):\n",
        "  ''' Returns a sorted posting list by wiki_id.\n",
        "  Parameters:\n",
        "  -----------\n",
        "    unsorted_pl: list of tuples\n",
        "      A list of (wiki_id, tf) tuples \n",
        "  Returns:\n",
        "  --------\n",
        "    list of tuples\n",
        "      A sorted posting list.\n",
        "  '''\n",
        "  return sorted(unsorted_pl)"
      ],
      "metadata": {
        "id": "T0L9xP0JDAr0"
      },
      "execution_count": 17,
      "outputs": []
    },
    {
      "cell_type": "code",
      "source": [
        "#create postings and sort by doc_id\n",
        "\n",
        "print(word_counts_text.take(5))\n",
        "postings_text = word_counts_text.groupByKey().mapValues(reduce_word_counts)\n",
        "postings_title = word_counts_title.groupByKey().mapValues(reduce_word_counts)\n",
        "\n",
        "#anchor?\n",
        "#filter out rare words - appearing in less than 10 docs\n",
        "postings_filtered_text = postings_text.filter(lambda x: len(x[1])>10)\n",
        "postings_filtered_title = postings_title.filter(lambda x: len(x[1])>10)\n",
        "#anchor?"
      ],
      "metadata": {
        "id": "kQpwsZU4R2jQ",
        "colab": {
          "base_uri": "https://localhost:8080/"
        },
        "outputId": "d266020b-711e-4d94-a5ae-d49cdeac0bb9"
      },
      "execution_count": 18,
      "outputs": [
        {
          "output_type": "stream",
          "name": "stdout",
          "text": [
            "[('time', (4055486, 8)), ('walker', (4055486, 6)), ('1982', (4055486, 3)), ('science', (4055486, 8)), ('fiction', (4055486, 4))]\n"
          ]
        }
      ]
    },
    {
      "cell_type": "code",
      "source": [
        "from operator import add\n",
        "\n",
        "total_terms_text = postings_filtered_text.flatMapValues(lambda x : x).map(lambda x: (x[0],x[1][1])).reduceByKey(add)\n",
        "inverted_text.term_total = total_terms_text.collectAsMap()\n",
        "\n",
        "total_terms_title = postings_filtered_title.flatMapValues(lambda x : x).map(lambda x: (x[0],x[1][1])).reduceByKey(add)\n",
        "inverted_title.term_total = total_terms_title.collectAsMap()\n",
        "\n",
        "\n"
      ],
      "metadata": {
        "id": "VSeBoeIx1y5l"
      },
      "execution_count": 19,
      "outputs": []
    },
    {
      "cell_type": "code",
      "source": [
        "def calculate_df(postings):\n",
        "  ''' Takes a posting list RDD and calculate the df for each token.\n",
        "  Parameters:\n",
        "  -----------\n",
        "    postings: RDD\n",
        "      An RDD where each element is a (token, posting_list) pair.\n",
        "  Returns:\n",
        "  --------\n",
        "    RDD\n",
        "      An RDD where each element is a (token, df) pair.\n",
        "  '''\n",
        "  rdd2 = postings.map(lambda x: (x[0], len(x[1]))) \n",
        "  return rdd2"
      ],
      "metadata": {
        "id": "AX7UBY1HDSOr"
      },
      "execution_count": 20,
      "outputs": []
    },
    {
      "cell_type": "code",
      "source": [
        "w2df_text = calculate_df(postings_filtered_text)\n",
        "w2df_title = calculate_df(postings_filtered_title)\n",
        "\n",
        "w2df_text_dict = w2df_text.collectAsMap()\n",
        "w2df_title_dict = w2df_title.collectAsMap()\n"
      ],
      "metadata": {
        "id": "CHQkRNoKXaLl"
      },
      "execution_count": 21,
      "outputs": []
    },
    {
      "cell_type": "code",
      "source": [
        "NUM_BUCKETS = 124\n",
        "def token2bucket_id(token):\n",
        "  return int(_hash(token),16) % NUM_BUCKETS\n",
        "\n",
        "def partition_postings_and_write(postings,base_dir):\n",
        "  ''' A function that partitions the posting lists into buckets, writes out \n",
        "  all posting lists in a bucket to disk, and returns the posting locations for \n",
        "  each bucket. Partitioning should be done through the use of `token2bucket` \n",
        "  above. Writing to disk should use the function  `write_a_posting_list`, a \n",
        "  static method implemented in inverted_index_colab.py under the InvertedIndex \n",
        "  class. \n",
        "  Parameters:\n",
        "  -----------\n",
        "    postings: RDD\n",
        "      An RDD where each item is a (w, posting_list) pair.\n",
        "  Returns:\n",
        "  --------\n",
        "    RDD\n",
        "      An RDD where each item is a posting locations dictionary for a bucket. The\n",
        "      posting locations maintain a list for each word of file locations and \n",
        "      offsets its posting list was written to. See `write_a_posting_list` for \n",
        "      more details.\n",
        "  '''\n",
        "  rdd2 = postings.map(lambda x: (token2bucket_id(x[0]),x)).groupByKey()\n",
        "  rdd3 = rdd2.map(lambda x: InvertedIndex.write_a_posting_list(x,base_dir))\n",
        "  return rdd3\n"
      ],
      "metadata": {
        "id": "T_S7vhO7Di8f"
      },
      "execution_count": 22,
      "outputs": []
    },
    {
      "cell_type": "code",
      "source": [
        "#rdd for postings locations\n",
        "!mkdir text_pl title_pl \n",
        "postings_locs_text = partition_postings_and_write(postings_filtered_text,'text_pl').collect()\n",
        "postings_locs_title = partition_postings_and_write(postings_filtered_title,'title_pl').collect()\n"
      ],
      "metadata": {
        "id": "TqpixEX1amf2",
        "colab": {
          "base_uri": "https://localhost:8080/"
        },
        "outputId": "f82b67cd-9d36-4aa2-9434-c032510ef184"
      },
      "execution_count": 23,
      "outputs": [
        {
          "output_type": "stream",
          "name": "stdout",
          "text": [
            "mkdir: cannot create directory ‘text_pl’: File exists\n",
            "mkdir: cannot create directory ‘title_pl’: File exists\n"
          ]
        }
      ]
    },
    {
      "cell_type": "code",
      "source": [
        "#create super set for allpotings locs\n",
        "super_posting_locs_text = defaultdict(list)\n",
        "for posting_loc in postings_locs_text:\n",
        "  for k, v in posting_loc.items():\n",
        "    super_posting_locs_text[k].extend(v)\n",
        "\n",
        "super_posting_locs_title = defaultdict(list)\n",
        "for posting_loc in postings_locs_title:\n",
        "  for k, v in posting_loc.items():\n",
        "    super_posting_locs_title[k].extend(v)\n",
        "\n",
        "\n",
        "#anchor?"
      ],
      "metadata": {
        "id": "8ugFDVeEghVx"
      },
      "execution_count": 24,
      "outputs": []
    },
    {
      "cell_type": "code",
      "source": [
        "inverted_text.posting_locs = super_posting_locs_text\n",
        "inverted_title.posting_locs = super_posting_locs_title\n",
        "\n",
        "inverted_text.df = w2df_text_dict\n",
        "inverted_title.df = w2df_title_dict\n",
        "\n",
        "inverted_text.write_index('.', 'index_text')\n",
        "inverted_title.write_index('.', 'index_title')\n",
        "locs = inverted_title.posting_locs\n",
        "DL = inverted_text.DL\n",
        "N = len(DL)"
      ],
      "metadata": {
        "id": "6hYsVNarg5mt"
      },
      "execution_count": 25,
      "outputs": []
    },
    {
      "cell_type": "code",
      "source": [
        "print(DL[4055486])\n",
        "lst = [('time', 8), ('walker', 6), ('1982', 3), ('science', 8), ('fiction', 4), ('horror', 4), ('film', 11), ('directed', 1)]"
      ],
      "metadata": {
        "colab": {
          "base_uri": "https://localhost:8080/"
        },
        "id": "BSbFKgwqKKy0",
        "outputId": "ba5e682a-d428-4d98-8429-dd4cd809e574"
      },
      "execution_count": 33,
      "outputs": [
        {
          "output_type": "stream",
          "name": "stdout",
          "text": [
            "694\n"
          ]
        }
      ]
    },
    {
      "cell_type": "code",
      "source": [
        "# def calculate_tfidf_doc(terms_tf, dl,N):\n",
        "#   sum = 0\n",
        "#   for term, tf in terms_tf:\n",
        "#     df_term = 10\n",
        "#     # w2df_text_dict[term]\n",
        "#     idf = math.log10(N/int(df_term))\n",
        "#     tf = tf/dl\n",
        "#     tfidf = tf*idf\n",
        "#     sum += math.pow(tfidf,2)\n",
        "#   return sum\n",
        "\n",
        "# print(calculate_tfidf_doc(lst, 20,200 ))\n",
        "def calculate_tfidf_doc(tf_term_doc, index):\n",
        "  # df_dict = index.df\n",
        "  # N = len(index.DL)\n",
        "  # DL_dict = index.DL\n",
        "\n",
        "  # terms_tf = tf_term_doc.map(lambda x : list(x[1]))\n",
        "\n",
        "  # tf_term_doc = tf_term_doc.flatMapValues(lambda x : x)\n",
        "  # doc_term_tf = tf_term_doc.map(lambda x : {x[0] : x[1]})\n",
        "  doc_term_tfidf = tf_term_doc.map(lambda x : (x[0] , builtins.sum([math.pow((tf/DL[x[0]]) * (math.log(N/w2df_text_dict[term],10)),2) for term, tf in x[1] if term in w2df_text_dict])))\n",
        "\n",
        "\n",
        "  # doc_term_tfidf = tf_term_doc.map(lambda x : {x[1][1] : [(tf/DL_dict[doc_id] * math.log(N/len(x[1]),10)) for doc_id, tf in x[1]]})\n",
        "\n",
        "#   # tfidf_docs_terms = tf_term_doc.map(lambda x : {x[0]: ((x[1][1]/DL_dict[x[0]]) * (math.log(N/df_dict[x[1][0]],10)))})\n",
        "#   # tfidf_docs = tfidf_docs_terms.map(lambda x : (x[0], x[1][1])).map(lambda x : (x[0], math.pow(x[1],2)))\n",
        "#   # docID_rdd = tfidf_docs_terms.flatMap(lambda x: x[1].items()).groupByKey().mapValues(list(x[1]))\n",
        "  return doc_term_tfidf\n",
        "\n",
        "# # # ================================= Computing IDF====================================\n",
        "# docs_num = len(inverted_text.DL)\n",
        "\n",
        "# \t# ('term', (idf,[('document id1', tf1), ('document id2', tf2)....] ))\n",
        "# idf = postings_filtered_text.map(lambda x: (x[0], (math.log10(docs_num/len(x[1])), x[1])))\n",
        "\n",
        "# \t# # ================================ Computing TF *IDF====================================\n",
        "\t# # ('term', {'document id1': tf*idf1, 'document id2': tf*idf2 .....})   value is in dictionary form\n",
        "# tfidf= idf.map(lambda x: (x[0], {w[0]: x[1][0] * w[1] for w in x[1][1]}))\n",
        "# # docID_rdd = tfidf.flatMap(lambda x: x[1].items()).groupByKey().mapValues(reduce_word_counts)\n",
        "# print(docID_rdd.take(1))"
      ],
      "metadata": {
        "id": "VMJ9KldUqZ0i"
      },
      "execution_count": 35,
      "outputs": []
    },
    {
      "cell_type": "code",
      "source": [
        "tf_term_doc_text = id_text.map(lambda x : (x[0], tf_for_term_id(x[0], x[1])))\n",
        "print(tf_term_doc_text.take(1))\n",
        "# diction = tf_term_doc_text.collectAsMap()\n",
        "# print(diction)\n",
        "DL = inverted_text.DL\n",
        "N = len(DL)\n",
        "\n",
        "# test = tf_term_doc_text.map(lambda x : (x[0], calculate_tfidf_doc(x[1], 200 , 5)))\n",
        "# tfidf = tf_term_doc_text.flatMap(lambda x : (x[0], calculate_tfidf_doc(x[1], DL[x[0]] , N)))\n",
        "# tfidf = tf_term_doc_text.groupByKey().mapValues(calculate_tfidf_doc(DL))\n",
        "# print(test.take(10))\n",
        "\n",
        "\n",
        "tfidf = calculate_tfidf_doc(tf_term_doc_text, inverted_text)\n",
        "print(tfidf.collectAsMap())\n",
        "# df_dict = w2df_text_dict\n",
        "# print(dict(df_dict.items()))\n",
        "# DL = inverted_text.DL\n",
        "# print(DL)\n",
        "\n",
        "# tf_idf = tf_term_doc_text.map(lambda x : (x[0], calculate_tfidf_doc(x[1],df_dict, DL[x[0]], len(DL))))\n",
        "# print(tf_idf.take(1))"
      ],
      "metadata": {
        "colab": {
          "base_uri": "https://localhost:8080/"
        },
        "id": "-ooRDWjaVV3f",
        "outputId": "15740352-27f5-482b-a11d-fea6b19e7434"
      },
      "execution_count": 36,
      "outputs": [
        {
          "output_type": "stream",
          "name": "stdout",
          "text": [
            "[(4055486, [('time', 8), ('walker', 6), ('1982', 3), ('science', 8), ('fiction', 4), ('horror', 4), ('film', 11), ('directed', 1), ('tom', 3), ('kennedy', 1), ('since', 1), ('release', 2), ('received', 1), ('negative', 2), ('reviews', 1), ('critics', 1), ('title', 2), ('another', 5), ('planet', 6), ('featured', 2), ('mystery', 5), ('theater', 5), ('3000', 5), ('episode', 7), ('405', 1), ('first', 2), ('aired', 2), ('july', 2), ('1992', 2), ('shown', 1), ('metv', 1), ('show', 1), ('svengoolie', 1), ('june', 1), ('2021', 1), ('plot', 1), ('california', 4), ('university', 4), ('sciences', 1), ('professor', 1), ('douglas', 11), ('mccadden', 1), ('explores', 1), ('tomb', 3), ('ancient', 2), ('egyptian', 3), ('king', 2), ('tutankhamun', 3), ('earthquake', 1), ('causes', 2), ('wall', 1), ('collapse', 1), ('revealing', 2), ('hidden', 1), ('chamber', 1), ('inside', 1), ('finds', 1), ('mummy', 9), ('sarcophagus', 4), ('unbeknownst', 1), ('body', 3), ('dead', 2), ('extraterrestrial', 1), ('alien', 16), ('suspended', 2), ('animation', 2), ('wrapped', 1), ('buried', 2), ('alive', 1), ('thousands', 1), ('years', 1), ('covered', 1), ('dormant', 1), ('green', 1), ('fungus', 6), ('brought', 1), ('back', 2), ('examined', 1), ('ken', 2), ('melrose', 1), ('x-rayed', 1), ('student', 2), ('peter', 4), ('sharpe', 1), ('big', 1), ('press', 3), ('conference', 2), ('discovery', 1), ('reviewing', 1), ('x-rays', 3), ('notices', 1), ('five', 1), ('crystals', 8), ('around', 1), (\"mummy's\", 2), ('head', 1), ('steals', 1), ('makes', 2), ('new', 6), ('cover', 1), ('theft', 3), ('sells', 1), ('four', 1), ('students', 5), ('unaware', 1), ('origin', 1), ('second', 1), ('set', 4), ('overdose', 1), ('radiation', 1), ('re-activate', 1), ('awaken', 1), ('next', 1), ('day', 1), ('one', 4), ('touches', 1), ('eats', 1), ('away', 1), ('fingers', 1), ('opened', 1), ('front', 2), ('reveal', 2), ('gone', 1), ('colleague', 1), ('hayworth', 1), ('attempt', 1), ('identify', 1), ('destroy', 2), ('everyone', 1), ('assumes', 1), ('disappearance', 1), ('fraternity', 1), ('prank', 1), ('however', 1), ('president', 1), ('wendell', 1), ('rossmore', 1), ('wants', 1), ('pin', 1), ('give', 1), (\"department's\", 1), ('directorship', 1), ('flunkie', 1), ('bruce', 4), ('serrano', 1), ('meanwhile', 1), ('tracks', 1), ('stolen', 2), ('crucial', 1), ('components', 1), ('intergalactic', 1), ('transportation', 2), ('device', 3), ('allow', 1), ('return', 1), ('home', 2), ('violently', 1), ('reclaims', 1), ('brutally', 1), ('attacks', 1), ('female', 1), ('plummer', 3), ('called', 2), ('investigate', 1), ('crime', 1), ('turn', 1), ('injured', 2), ('believes', 1), ('trail', 1), ('serial', 1), ('killer', 1), ('conducts', 1), ('investigation', 1), ('translates', 1), ('hieroglyphic', 1), ('text', 2), ('hopes', 1), ('identity', 1), ('reveals', 1), ('found', 2), ('coma-like', 1), ('state', 2), ('thinking', 1), ('unconscious', 1), ('god', 1), ('attendants', 1), ('touched', 1), ('killed', 1), ('infectious', 1), ('together', 1), (\"king's\", 1), ('figured', 1), ('connection', 1), ('traces', 1), ('admits', 1), ('gives', 1), ('crystal', 4), ('kept', 1), ('end', 2), ('wendall', 1), ('two', 3), ('security', 2), ('guard', 2), ('boiler', 1), ('room', 1), ('activates', 1), ('placing', 1), ('last', 1), ('recovered', 1), ('wrappings', 1), ('disintegrate', 1), ('true', 1), ('form', 1), ('urged', 1), ('shoots', 1), ('leaps', 1), ('protect', 1), ('lies', 1), ('takes', 1), ('hand', 2), ('disappear', 1), ('single', 1), ('left', 1), ('stood', 1), ('grabs', 1), ('begins', 1), ('ends', 1), ('cast', 1), ('production', 1), ('produced', 1), ('dimitri', 1), ('villard', 1), ('jason', 1), ('williams', 2), ('starred', 1), ('1974', 1), ('sexploitation', 1), ('flesh', 1), ('gordon', 1), ('co-authored', 1), ('story', 2), ('friedman', 1), ('distributed', 1), ('world', 3), ('pictures', 2), ('skip', 1), ('schoolnik', 1), ('edited', 1), ('outside', 2), ('building', 1), (\"northridge's\", 1), ('sierra', 1), ('hall', 1), ('re-released', 1), ('video', 1), ('opening', 1), ('closing', 1), ('credits', 1), ('spring', 1), ('1991', 1), ('version', 2), ('mst3k', 5), ('shout', 3), ('factory', 2), ('released', 3), ('dvd', 3), ('bundled', 1), ('several', 1), ('films', 14), ('lady', 1), ('frankenstein', 1), ('velvet', 1), ('vampire', 1), ('grotesque', 1), ('september', 1), ('2011', 1), ('later', 1), ('blu-ray', 1), ('2016', 2), ('reception', 2), ('critical', 1), ('guide', 1), ('rated', 2), ('stars', 3), ('clichéd', 1), ('notable', 1), ('non-traditional', 1), ('monster', 1), ('moves', 1), ('quickly', 1), ('david', 1), ('linck', 1), ('box', 1), ('office', 1), ('criticized', 2), (\"film's\", 1), ('lighting', 1), ('special', 1), ('effects', 1), ('described', 1), ('all-too-predictable', 1), ('little', 1), ('suspense', 1), ('excitement', 1), ('look', 1), ('forward', 1), ('lou', 1), ('cedrone', 1), ('evening', 1), ('sun', 1), ('declared', 1), ('instant', 1), ('camp', 1), ('enjoyed', 1), ('badness', 1), ('fangoria', 1), ('slow', 1), ('pace', 1), ('ultimately', 1), ('calling', 2), ('waster', 1), ('stuart', 1), ('galbraith', 1), ('talk', 1), ('wrote', 1), ('though', 1), ('mercilessly', 1), ('ridiculed', 1), ('naively', 1), ('charming', 1), ('low-budget', 2), ('sci-fi', 1), ('thriller', 1), ('real', 1), ('throwback', 1), ('innocent', 1), ('blockbuster', 1), ('entertainment', 1), ('gave', 3), ('jim', 2), ('craddock', 1), ('author', 1), (\"videohound's\", 1), ('golden', 1), ('movie', 4), ('retriever', 1), ('star', 1), ('critic', 1), ('leonard', 1), ('maltin', 1), ('bomb', 1), ('rating', 1), ('junk', 1), ('name', 1), ('#405', 1), ('debuted', 1), ('comedy', 1), ('central', 1), ('people', 1), ('almost', 1), ('kind', 1), ('attractive', 1), ('writer', 2), ('paul', 1), ('chaplin', 1), ('claimed', 1), ('wardrobe', 1), ('department', 1), ('good', 1), ('making', 1), ('breasts', 1), ('seem', 1), ('really', 1), ('unappealing', 1), ('finishes', 1), ('servo', 1), ('declares', 1), ('worst', 1), ('previous', 1), ('bad', 2), ('watched', 1), ('admitting', 1), ('castle', 1), ('manchu', 1), ('make', 1), ('top', 1), ('100', 1), ('list', 2), ('episodes', 3), ('voted', 1), ('upon', 1), ('season', 1), ('kickstarter', 1), ('backers', 1), ('vogel', 2), ('agreed', 1), ('fans', 1), ('lack', 1), ('enthusiasm', 1), ('ranking', 1), ('#171', 1), ('191', 1), ('total', 1), ('painful', 1), ('indeed', 1), ('extreme', 1), ('pain', 1), ('level', 1), ('included', 1), ('part', 1), ('volume', 1), ('xxxv', 1), ('collection', 1), ('march', 1), ('four-disc', 1), ('include', 1), ('teenage', 1), ('caveman', 1), ('#315', 1), ('moon', 1), ('#524', 1), ('deathstalker', 1), ('warriors', 1), ('hell', 1), ('#703', 1), ('american', 4), ('citations', 1), ('bibliography', 1), ('external', 1), ('1980s', 1), ('independent', 1), ('english-language', 1), ('egypt', 1), ('shot', 1), ('los', 1), ('angeles', 1), ('scored', 1), ('richard', 1), ('band', 1)])]\n",
            "{4055486: 0.005562579160020299, 4080953: 0.0042685012392451325, 4093674: 0.011965120846896955, 4105482: 0.05558944017181364, 4108839: 0.010693026736129253, 4141563: 0.007180414827335601, 4146044: 0.03223838727258258, 4148655: 0.007885342618445375, 4169317: 0.023949211772728914, 4189740: 0.005633029795904762, 4193788: 0.006321967254527319, 4201044: 0.005378899508318949, 4206029: 0.005013493385767925, 4225907: 0.015998910726848697, 4242777: 0.02880374841452404, 4250574: 0.01008700071414415, 4275382: 0.018274352436505683, 4301719: 0.010564985054930623, 4338696: 0.005413460278543855, 4344526: 0.03924647670220499, 4355398: 0.002336134461503467, 4361873: 0.014216714233208435, 4390795: 0.009405114142800498, 4427231: 0.008510553077920096, 4432842: 0.005181470312657665, 4451883: 0.006529936020176493, 4456418: 0.08717303059676756, 4463369: 0.017067802953772655, 4465875: 0.01725191578720064, 4465969: 0.022312066600037657, 4468939: 0.00963342107886056, 4481567: 0.008149654836862452, 4512778: 0.007028183761508015, 4523354: 0.01954789510521506, 4539416: 0.019562299099509586, 4552880: 0.0043139645746319705, 4553108: 0.020119938193650207, 4567010: 0.007449883324489222, 4627535: 0.01118132106933292, 4649105: 0.027858614997490073, 4659608: 0.023081254686121218, 4660251: 0.027123543659273944, 4668823: 0.01010292961341823, 4673201: 0.0932406317442944, 4676317: 0.11465323243350103, 4694434: 0.010342280591782691, 4730170: 0.0169111841324105, 4749106: 0.012865860607080505, 4750398: 0.011346317222725435, 4765530: 0.005391587547806056, 4819795: 0.008277404405856049, 4840292: 0.13270273081237574, 4875689: 0.034775269570504974, 4876011: 0.00547347850403928, 4881262: 0.01365992702863469, 4920126: 0.011886299124126197, 4954263: 0.0029546777846070535, 4975851: 0.004524070696108742, 4979006: 0.015683703370203774, 4987149: 0.005947165770713145, 4992439: 0.014715128771829249, 4992612: 0.01722627337668909, 5003908: 0.01225796888104269, 5027882: 0.009701459166124906, 5028853: 0.007448181059898073, 5035602: 0.01063255701026314, 5038510: 0.007604508950398304, 5046302: 0.005757204100435162, 5048642: 0.007575873510332062, 5052869: 0.07846912414191891, 5063356: 0.008388723381021064, 5065635: 0.004096794730103149, 5083422: 0.004313283756005054, 5087621: 0.04475809526825813, 5089316: 0.003155036616494337, 5101133: 0.012003060763941408, 5118574: 0.06304292396330563, 5123174: 0.0063366453460836705, 5132315: 0.008841199357391376, 5136015: 0.009325998049242638, 5204237: 0.007644173798210599, 5230872: 0.002615358395177062, 5239060: 0.042034034439455796, 5250192: 0.00443951730361798, 5266044: 0.009252578433936088, 5270659: 0.03939725075992188, 5290678: 0.011895339753913296, 5302000: 0.007701845249157976, 5316295: 0.005670191752273578, 5318218: 0.007316387963073792, 5321303: 0.008545102550764709, 5322079: 0.031327630248905905, 5330985: 0.007944056066402517, 5339378: 0.003683771939155624, 5344857: 0.012388112463279517, 5350984: 0.007242095966576623, 5372935: 0.004062012912428848, 5376796: 0.012537427450502748, 5376827: 0.0175874047218944, 5376868: 0.009771306834142651, 5382150: 0.03371834010344098, 5413930: 0.013474544291719844, 5479462: 0.018263211921073056, 5486819: 0.010653698845642148, 5498413: 0.02652325762153426, 5522290: 0.030053511432275803, 5549127: 0.005830162550072624, 5563310: 0.018209161651639803, 5608488: 0.006495537475517989, 5652480: 0.007490643243521335, 5676692: 0.002989499258821073, 5686025: 0.007522720108093428, 5690287: 0.006707091839560754, 5692662: 0.02257721963461743, 5699016: 0.025308763603508776, 5763069: 0.01690988305172392, 5774818: 0.007900097473859797, 5775715: 0.02619131404264003, 5806056: 0.01088461098243146, 5818361: 0.025450726982551575, 5818788: 0.024875376584994897, 5866454: 0.011675207442624829, 5913182: 0.015873469348216308, 5958023: 0.019743826073326406, 5961225: 0.01911287300767971, 6009939: 0.0030327743321788307, 6050003: 0.0030293259735125503, 6050655: 0.00811279280506564, 6060889: 0.0395250848932676, 6102876: 0.005701192119386062, 6118940: 0.012082123589105067, 6146589: 0.008825861313116067, 6154091: 0.008953039892378282, 6154795: 0.024419269453969914, 6159650: 0.1097216407761774, 6168739: 0.01384313898729672, 6215230: 0.008915765160161621, 6245494: 0.007257146169844688, 6263016: 0.005126713974538733, 6264793: 0.0062401172449490306, 6311077: 0.014748854514942929, 6353598: 0.006819564727296424, 6383976: 0.01296831382564417, 6393894: 0.007622751304306108, 6405787: 0.03542537216165153, 6422823: 0.0038204677664235858, 6424614: 0.012375688236949867, 6458321: 0.0058256759422512855, 6497307: 0.027664959848427453, 6523448: 0.00814786730373625, 6558203: 0.010487243911798384, 6560301: 0.010390231792174812, 6575642: 0.010623510325342807, 6577165: 0.01443103869510169, 6613094: 0.0116677655844715, 6672660: 0.02494735806977481, 6693851: 0.007559547893385292, 6709491: 0.008577481149587141, 6719413: 0.027307523644446774, 6727140: 0.0055366706879636934, 6815937: 0.011638831426147014, 6837398: 0.005122215187029599, 6889129: 0.010515849251181682, 8571805: 0.012736292300376293, 8588996: 0.003683359326262972, 8598331: 0.004735310216330582, 8703840: 0.022467234632799163, 8773677: 0.020293878502376725, 8806795: 0.009843282272922164, 8817935: 0.011290867718805992, 8848402: 0.0062174675944475415, 8867983: 0.011527958286078372, 8892877: 0.023579829992842763, 8912934: 0.006162356326161252, 8915322: 0.007816185170458779, 8948452: 0.012037139730285262, 8957449: 0.0059686047545739135, 8970797: 0.03854319418408517, 8983183: 0.005256870869500382, 9000355: 0.007931071358718933, 9040490: 0.008155803983020862, 9041235: 0.004173363219625307, 9042644: 0.030028705697039314, 9066654: 0.07616285016675604, 9110929: 0.005455793862666777, 7061714: 0.05404104891592727, 7082459: 0.03312252182930231, 7105280: 0.007778027981224216, 7139331: 0.024224888565364967, 7151675: 0.08559892898930482, 7152087: 0.022304366791374375, 7154355: 0.024644142383314603, 7173874: 0.004051843467745096, 7209753: 0.01122132773075009, 7215125: 0.0028315690502516426, 7218230: 0.002800098682008036, 7235116: 0.004321966777867174, 7249348: 0.02268790640047174, 7273911: 0.0074859677782307356, 7301470: 0.01808176042226819, 7343803: 0.035634135039906825, 7362700: 0.017767205779363648, 7362738: 0.025062586727528164, 7364325: 0.0055839879929538315, 7368588: 0.01887630715982974, 7381258: 0.0036853513667937004, 7419133: 0.0184984401250322, 7424280: 0.04618291072736066, 7438610: 0.010191954117742631, 7439323: 0.06619030194456249, 7479199: 0.03874946871281292, 7529001: 0.012617950166714296, 7602386: 0.005642432375020514, 7660130: 0.010693433350169666, 7702313: 0.004599235396051942, 7718500: 0.2629590395559994, 7775525: 0.008834318306266074, 7778546: 0.06658627273127368, 7800160: 0.009429572779921224, 7837468: 0.00722815979383741, 7852272: 0.005574851245711324, 7872152: 0.015050026000672014, 7912947: 0.008566935579048371, 7913597: 0.016742062716524415, 7927053: 0.005312087082196201, 7928434: 0.010663306562414057, 7957691: 0.027918627760352328, 7971671: 0.004712007880697686, 8001012: 0.017405210113923823, 8009590: 0.007297924668957404, 8073864: 0.04046163533255948, 8076709: 0.006064911671443653, 8092560: 0.008064951011476687, 8094067: 0.004624396701127662, 8100167: 0.04613835483982128, 8133498: 0.02753706324370083, 8150951: 0.007148326473864608, 8166922: 0.021615700296680425, 8175846: 0.036012457630381925, 8220315: 0.0069697504731136405, 8250222: 0.012124213352161309, 8277225: 0.2760150193594665, 8304348: 0.009077132243531004, 8305253: 0.0114886459373056, 8464191: 0.06728760257746086, 8468850: 0.015191968942903604, 8469156: 0.02131112096539763, 8474963: 0.00582587777021241, 8491563: 0.10121831958920836, 10687051: 0.010900034714367759, 10691928: 0.01638960655648764, 10715937: 0.010327719014064672, 10782332: 0.008683023581890952, 10818378: 0.02311627423197001, 10827381: 0.005149737588664204, 10836835: 0.00980152449276829, 10873990: 0.03822328092582532, 10887219: 0.011027229547250324, 10922531: 0.013369064136708866, 10957878: 0.008815552621311116, 10958920: 0.007587256319374226, 11061915: 0.010542029523485144, 11184711: 0.043187697615223335, 11193835: 0.013253811777381101, 11216001: 0.016100958422420476, 11231759: 0.008106796459848516, 11266183: 0.01660816414799303, 11309920: 0.015799514482460843, 11322015: 0.00902295269097538, 11323402: 0.0106182232165095, 11415141: 0.00822038718798141, 11451897: 0.0025751421614003322, 11486091: 0.02900486818257962, 11487904: 0.024641393196322855, 11495285: 0.07265652136135436, 11505904: 0.009505806003314136, 11583987: 0.017026637056337397, 11647367: 0.02492331076311066, 9195892: 0.010676335499623326, 9270823: 0.00813070814793824, 9303405: 0.04223873554027821, 9315633: 0.018841607958321356, 9397801: 0.014413408932372923, 9433102: 0.013590619614082238, 9483388: 0.00764655482424559, 9511414: 0.012438711048080987, 9526854: 0.005515589702251072, 9547083: 0.014411937568051987, 9557957: 0.013789260743679772, 9586885: 0.010205571418854923, 9603954: 0.03886559472448495, 9651444: 0.010701555431849046, 9675171: 0.11357375386576932, 9733533: 0.005323931371765033, 9759063: 0.01146540729635296, 9785087: 0.010387996182418124, 9807715: 0.02578158269647298, 9874319: 0.003732910802928865, 9917505: 0.019137661204260425, 9933471: 0.004269296367239562, 9952602: 0.05962473980517831, 9974017: 0.016801807648539707, 10062721: 0.009561369701897155, 10079967: 0.005565139292625734, 10104316: 0.007929285172508831, 10133081: 0.10182248248132102, 10147369: 0.021566062608059863, 10154200: 0.012835386506155714, 10179411: 0.014343099028250952, 10180504: 0.009053899676780192, 10218640: 0.024296474205422067, 10265984: 0.008218258548895196, 10296674: 0.01631799147064718, 10300434: 0.003837626478137957, 10328235: 0.011951765814403789, 10448121: 0.025740293019160296, 10519138: 0.0012382197481729342, 10554676: 0.0063353828090005, 10619416: 0.009978329418781101, 10647218: 0.042455556306173446, 10669385: 0.009769993948160397, 10669865: 0.006327932876760425, 10671559: 0.025849791363095984, 13200719: 0.00905531162268166, 13235623: 0.007341255063083575, 13280124: 0.006804973343808441, 13315204: 0.059033554152068665, 13323241: 0.005054850861642978, 13338662: 0.022239512142302735, 13370873: 0.01595708713001843, 13383187: 0.0017361822701809347, 13412771: 0.021086868662820352, 13502823: 0.008937415708884828, 13612149: 0.012344378078900578, 13612929: 0.0022982794928619586, 13624574: 0.0035912656749408018, 13687674: 0.006187991996771397, 13690215: 0.0025890490803930186, 13700748: 0.0016214375633341002, 13719853: 0.03932695500628106, 13824676: 0.02756382228966101, 13902799: 0.044551200346963964, 13936750: 0.011319144453666777, 13958538: 0.0824654975029831, 14001660: 0.006474230953308249, 14062336: 0.01578698221597966, 14109784: 0.012728108791612533, 14174833: 0.04550446843905848, 14181749: 0.003925444015560462, 14201682: 0.019811351239136403, 14208718: 0.007382962029714889, 11689293: 0.09501339571894014, 11760348: 0.01405784862391685, 11827767: 0.05522094094271498, 11832915: 0.019175143418098374, 11834672: 0.009264426516268427, 11858188: 0.002987689739332046, 11859370: 0.028885530121348986, 11882165: 0.013127812329614187, 11891433: 0.009956993610957431, 11894026: 0.029700758470654662, 11921706: 0.015047615963149494, 11971218: 0.040419273836591725, 11971397: 0.05658408565066599, 11980851: 0.042065237016124135, 12003767: 0.039002534095459666, 12070623: 0.004815695592288698, 12082283: 0.002895762352689732, 12101316: 0.009324947550141502, 12106552: 0.008532731619732805, 12119521: 0.014283370512814678, 12174150: 0.018909456775255674, 12209015: 0.05392328069587869, 12210793: 0.004668138677922584, 12234103: 0.023094991474447428, 12263290: 0.026532777392615656, 12356944: 0.009482865858986837, 12410589: 0.045551566487398616, 12487489: 0.012382576644281948, 12629761: 0.0211249622821832, 12638661: 0.011496471736875761, 12652799: 0.009910909773580796, 12673434: 0.0032512963433561997, 12727781: 0.050204903489754364, 12754503: 0.013759620368525762, 12776016: 0.01039801349133064, 12897776: 0.012751465243495255, 12915125: 0.04061375313121632, 13051060: 0.030080307840641758, 13062829: 0.008651657933056452, 13065408: 0.013481795047667864, 15880608: 0.004863427725813448, 16160954: 0.008993577752611894, 16161419: 0.007153183310144269, 16184595: 0.012381420237303617, 16224368: 0.012309057766868711, 16308445: 0.02091567576095378, 16348889: 0.014989862877073724, 16368206: 0.00583983305825349, 16488467: 0.006210596830839598, 16591942: 0.00409933159154577, 16635934: 0.007582285813022306, 16671094: 0.008816477689078842, 16749463: 0.07752385797461055, 16795291: 0.012911142948076566, 16887435: 0.04481343014437028, 16938429: 0.033852228293683485, 16943307: 0.019574720108320922, 16969340: 0.009675214954840628, 16982268: 0.026174191569392855, 16990777: 0.02399219420594136, 17031486: 0.030904278488120693, 17055183: 0.015205386392343088, 17069844: 0.0127281829208223, 17107550: 0.009277727910803992, 17208913: 0.00930670838487481, 17255946: 0.019924306097530663, 17284321: 0.01970554841710529, 17296107: 0.007773136324683038, 14342785: 0.014851009638470277, 14343887: 0.013344356006144644, 14438844: 0.03302280120639537, 14650035: 0.006497821470884951, 14684661: 0.008277078003070133, 14754518: 0.006039375848376949, 14759518: 0.003925170632501288, 14945749: 0.051682403158523266, 14953848: 0.005089952013740814, 14985517: 0.03240514854501632, 15003673: 0.005248823941337707, 15003874: 0.004910016565856998, 15007729: 0.015213191667472927, 15015154: 0.01800562283977656, 15101979: 0.021531041656204192, 15179951: 0.002907060038137306, 15190087: 0.010108024545937606, 15325435: 0.0200967967544399, 15392541: 0.005729656333298368, 15434651: 0.012174607488199962, 15586616: 0.007581628812544566, 15712244: 0.020360310495648768, 15716827: 0.0030201282793022037, 18968719: 0.012191224137989249, 18985040: 0.01218159951590736, 19079925: 0.019928061552003527, 19124595: 0.0036194481040310346, 19133401: 0.009775788973076294, 19283335: 0.0024923223414470017, 19288592: 0.007805906994403726, 19344654: 0.00845522563605911, 19347339: 0.0034806855429551607, 19433498: 0.023409548260651822, 19437928: 0.02661702661431291, 19492975: 0.01625923151314817, 19508643: 0.0024845453075372998, 19542049: 0.009565886597358719, 19558531: 0.012587462259321534, 19585449: 0.005764413110417606, 19592340: 0.012125730331081502, 19696772: 0.013310349191101578, 19702661: 0.015285538471990406, 19718702: 0.008431280280126394, 19776474: 0.004569715202056224, 19828134: 0.004907378301606142, 19931851: 0.03499828387700806, 19952476: 0.00825199700041376, 19960341: 0.06426047241658155, 19988623: 0.009746163655491772, 20038918: 0.01698154687480534, 20071428: 0.011403553475399899, 20072937: 0.005941887105910729, 20089569: 0.007248945414817893, 20156275: 0.013033879725455161, 20208066: 0.008036890298518751, 20289869: 0.00510563291249819, 20302560: 0.014816007454985071, 20323494: 0.005473189018372047, 20327832: 0.00898047734010344, 20439501: 0.01647937926292217, 17461478: 0.020110140171329154, 17519943: 0.03235973389651994, 17566205: 0.014438488409235794, 17621896: 0.008002765659393752, 17634819: 0.016182771836542688, 17664319: 0.014979481794186213, 17720623: 0.010390886669323569, 17740009: 0.005789510113098962, 17785794: 0.004940608833196397, 17868447: 0.0012754331810371398, 18169326: 0.016135682638650815, 18353587: 0.03544398741887702, 18383702: 0.00353126269249258, 18384111: 0.009074983021673288, 18408298: 0.006540058803346381, 18491946: 0.0019472589026701486, 18509922: 0.02233290017695554, 18550455: 0.027200973764049525, 18600765: 0.038075422577728175, 18611260: 0.0038722262398954987, 18621887: 0.00148536155597519, 18741438: 0.0569564323553707, 18745015: 0.00544120018885066, 18745215: 0.05218553375411509, 18805500: 0.02534858905332399, 18823362: 0.006590880366476232, 18911094: 0.027903072218335004, 18944151: 0.009481059232010074, 18948312: 0.0035665265364733852, 18952424: 0.002759184671222407, 18952739: 0.005106632641215123, 22114132: 0.0019353730123881255, 22144721: 0.0033576812908741004, 22144990: 0.0021400774073623468, 22199452: 0.01751137631766098, 22254915: 0.005371808000509747, 22265206: 0.012745434528377012, 22294424: 0.016193166048251006, 22352499: 0.015339619821010973, 22411575: 0.005116884313894683, 22438472: 0.009861286641453427, 22494577: 0.03788220516784182, 22503790: 0.028902926968152973, 22513329: 0.018657037910356264, 22549390: 0.011682855196330784, 22631033: 0.03581801987935922, 22670461: 0.01623166211081966, 22735258: 0.006339293277250803, 22757645: 0.02298751460555631, 22809006: 0.004863149914627033, 22893145: 0.023276543545680328, 22901459: 0.019476018151960095, 22905489: 0.010309895041808579, 22910214: 0.015286571410737011, 22992426: 0.014509419387597663, 23030371: 0.011972706215394245, 23032578: 0.013106577838652243, 23045823: 0.012306344856446922, 23054130: 0.01807619953165051, 23114830: 0.01675880974727131, 23139600: 0.02077997635224455, 23159504: 0.01638128444504232, 23166476: 0.02760101183895962, 23174077: 0.016920164929302185, 23269223: 0.011116208204238906, 23388142: 0.0015070564831734315, 23446323: 0.004189591799401158, 23454546: 0.0059928109666649845, 23487440: 0.002530150130406211, 23533163: 0.0108759321356325, 20632884: 0.010154613880342441, 20775117: 0.012797012915582487, 20827796: 0.0035759306412921554, 20874323: 0.01633636756386183, 20913864: 0.00880346176652531, 20948989: 0.016275763263875833, 21000624: 0.02919982391118645, 21078348: 0.015227288665029884, 21106742: 0.0328240853228111, 21179478: 0.00231801176489288, 21197980: 0.008554877507627762, 21257512: 0.03206501545090009, 21356332: 0.011821006676547275, 21364162: 0.02078154107530874, 21381229: 0.034171927284461244, 21434255: 0.0034889470616977615, 21437073: 0.0009860106810647775, 21462612: 0.012929678705744822, 21490868: 0.005487721485818299, 21491579: 0.0033843365287679356, 21496038: 0.008217532343780821, 21496150: 0.012163438847374258, 21549213: 0.006016304923456472, 21579170: 0.008285236167420886, 21604314: 0.005020341211350818, 21611071: 0.005032804644547037, 21699434: 0.006252393809863447, 21863425: 0.1072479468992537, 21899417: 0.005847829837037803, 21905962: 0.01894693332508517, 21944373: 0.002318475548845087, 22067678: 0.005172521363560473, 25219375: 0.00920702802032956, 25228985: 0.00810134044514925, 25271852: 0.030191324855863396, 25295524: 0.032639639298288496, 25311310: 0.02326571345248927, 25342571: 0.010659634373238377, 25351191: 0.006656319924942915, 25390847: 0.00982464055345393, 25496814: 0.01270310163132389, 25623974: 0.004770423194637183, 25659792: 0.0370140244772976, 25767045: 0.004144275678012844, 25935906: 0.01276986805744672, 25957127: 0.022803631483866185, 25959000: 0.028644462198956822, 26078050: 0.024074658471173512, 26143506: 0.0045824102960164165, 26212422: 0.00799597014710865, 26275110: 0.03600003427092114, 26334893: 0.012752095245965987, 26473291: 0.016694023074117974, 26584776: 0.016424095043791657, 26585811: 0.1105453162447892, 26591446: 0.025647941941592402, 26598863: 0.010430236997843583, 26700112: 0.0045602380380966746, 23732462: 0.010665213941799591, 23834216: 0.002678597784986783, 23852947: 0.01152848308585683, 23941708: 0.002878756982687267, 23943140: 0.012029184948448254, 23954341: 0.008572469397496445, 24008586: 0.0038439262455945873, 24019253: 0.015352093510936065, 24056098: 0.05633585671078373, 24111672: 0.01644917550269866, 24193668: 0.022690828880359122, 24213566: 0.010504299599379843, 24224679: 0.024473570385726954, 24315397: 0.02414634695070497, 24361010: 0.021228865778725844, 24385806: 0.012224388102901195, 24386465: 0.005670130423076334, 24593449: 0.004545261746476219, 24612090: 0.007303376448827296, 24615479: 0.01649315164154916, 24909346: 0.005674672096245363, 24932989: 0.008936311106314897, 24963451: 0.010108017774093586, 24963841: 0.014846467390962842, 24997576: 0.00717376206706823, 24997830: 0.00680731866494829, 25045060: 0.006327816908367657, 25049240: 0.04130433095273353, 25050663: 0.004283082543696733, 25061839: 0.0261134041786112, 25130414: 0.017347301175618432, 25173473: 0.012835450912639013, 25211041: 0.006825967656294819, 25215235: 0.021704864887633346, 28688670: 0.031526697671065446, 28754077: 0.008199933357673847, 28771786: 0.032623969523080616, 28827117: 0.02359649747071273, 28844729: 0.007819721675386086, 28848113: 0.006355488604293613, 28887886: 0.00983121423558547, 29066482: 0.005929606977671508, 29129051: 0.004897985211785252, 29156200: 0.003233199131839204, 29342321: 0.00858766021760635, 29403992: 0.019663316583578557, 29437250: 0.01432965695805318, 29448480: 0.00568991804510284, 29449433: 0.020081818965633023, 29538871: 0.02269905745523121, 29565262: 0.007022535920158352, 29604056: 0.014042416365605092, 29772915: 0.01424458438569947, 29828807: 0.018696487309832137, 29979321: 0.04389821544979033, 30224834: 0.009750098001597688, 30294906: 0.002304407118663034, 30597745: 0.021465882589341814, 30796675: 0.2221983734708537, 30810141: 0.009203718111986826, 30853394: 0.007110544326312518, 30874683: 0.0074103384056793415, 30876121: 0.013968539277298594, 30876926: 0.01750387247753312, 30882491: 0.00878557454743036, 31102405: 0.015896976595432002, 31156754: 0.00934650251036465, 31185151: 0.004270050399298332, 31186864: 0.011611384120346999, 31201599: 0.004679554043300281, 31265743: 0.004067736447769544, 27159781: 0.002888453601582806, 27162455: 0.04371967000539219, 27196905: 0.008670606089920084, 27218900: 0.00939967192162945, 27289304: 0.00922326630836492, 27306717: 0.0034436481553550007, 27363348: 0.011085602386748607, 27375211: 0.005583859125679632, 27377596: 0.008211620206605959, 27471338: 0.004462662409634569, 27511028: 0.011881744167850039, 27555169: 0.015063251168269618, 27767967: 0.009142045588177834, 27833186: 0.008383350846702957, 27837030: 0.006171401763434853, 27898480: 0.053489804530366225, 27944015: 0.05480206543838446, 28026533: 0.010035364364445527, 28062197: 0.013895594556723496, 28086000: 0.0023479954114579045, 28096917: 0.023275893669841598, 28125449: 0.0030659246033671273, 28153175: 0.005520707411648446, 28190146: 0.05879994243035852, 28236187: 0.007835733405879763, 28245491: 0.009862932807152842, 28253219: 0.004305541961200189, 28271176: 0.010452674942065077, 28326718: 0.00944144917064093, 28456222: 0.030951106594003564, 28486111: 0.008858920270659973, 1857: 0.013655548980055528, 2080: 0.003911081631551805, 2175: 0.0011123843816437749, 3419: 0.016719548094343333, 3746: 0.0037628285106315155, 3921: 0.004087246806218611, 4489: 0.008132753426729332, 4681: 0.008504985498329148, 4800: 0.002650445919562883, 5213: 0.005562899306431288, 5323: 0.004334492795512596, 5355: 0.0040561684109089065, 6013: 0.013342311095939266, 6112: 0.0060268982006147975, 6690: 0.012930834774170487, 6745: 0.003866361533895385, 6788: 0.006391143760363997, 7089: 0.010926564519921028, 7671: 0.0059207336166021375, 7729: 0.003933129702627013, 7959: 0.004473101554738282, 8495: 0.017936193594771135, 8846: 0.002292612564162632, 9232: 0.005267392220410174, 9457: 0.004440300316851179, 10000: 0.09538454975618123, 10591: 0.005887186016108401, 10916: 0.019104574852696562, 11002: 0.0015523782936221, 11286: 0.006593801475847251, 11313: 0.0034310254245542224, 11921: 0.007737098842519908, 11984: 0.007876633689516143, 12232: 0.005428032713578749, 12431: 0.0060910239166592, 12772: 0.007361698621411472, 13024: 0.009509878699507852, 13149: 0.0025120777218825417, 13550: 0.0078039347025322175, 13679: 0.005471938990679719, 14384: 0.008259124393548823, 14573: 0.0013238892012753239, 14926: 0.003524542754718469, 15037: 0.015683551160343537, 15271: 0.007340264044859348, 15858: 0.008852210749244954, 16315: 0.004735964989905892, 16899: 0.004791046230116388, 18838: 0.002878912421846387, 18942: 0.005171358841747795, 19160: 0.038087558813704445, 19390: 0.007550295294862519, 19620: 0.008848244111554352, 19701: 0.003845855667487676, 19886: 0.01872161037015192, 20229: 0.015031443393949106, 20455: 0.005667322492432523, 20840: 0.0016167060049619428, 21035: 0.0077699814489330925, 21828: 0.01508712257470646, 22092: 0.015051678362167017, 22093: 0.004221325969226437, 22546: 0.012097824347513152, 22725: 0.004508543928918193, 23213: 0.0056670291100734274, 23298: 0.004776072711711106, 23329: 0.006602876795060468, 23776: 0.00661385197087055, 23862: 0.007130969937515374, 24001: 0.004286363235916613, 25613: 0.0024422660164355892, 25614: 0.002754397623924658, 25908: 0.009874526086048111, 26685: 0.0042119808673629945, 28239: 0.008955462591280718, 28240: 0.004748651424776852, 28327: 0.0017677049263204246, 28643: 0.01021085224423377, 28732: 0.01445039983842372, 29178: 0.022838386810894697, 29589: 0.008202983583547851, 29831: 0.001887060078400389, 30332: 0.007141789942222248, 30475: 0.0054951890069390285, 30916: 0.02175228225331166, 31034: 0.005281291296359163, 31416: 0.0045399428572872064, 31496: 0.00577671601511329, 31550: 0.003929443313375709, 31607: 0.0033894345327850485, 31664: 0.008156459657380538, 32587: 0.005567721200919798, 32591: 0.005520854719226189, 32593: 0.002549725807759951, 32623: 0.0064415079649307915, 33178: 0.0032465463252497905, 34080: 0.006940018524755781, 34258: 0.00983877670124689, 36164: 0.0023732324774064758, 36969: 0.009242809285619224, 37168: 0.005966093203172355, 37421: 0.012091123751393332, 37454: 0.07803798993540892, 37469: 0.021078840799790114, 37674: 0.01173177590353309, 37774: 0.0027557129325883984, 38041: 0.005038489359420489, 38404: 0.010201794655809077, 38424: 0.013662671867872865, 38539: 0.0020540031862206227, 39206: 0.002913735423966929, 32817039: 0.026590653373760337, 32843712: 0.0050824132320909645, 32863238: 0.013660755220274623, 33038861: 0.004185691452292411, 33039125: 0.004639039742129712, 33065713: 0.0039115394374343955, 33084611: 0.0034819516051282575, 33110953: 0.010250691857553684, 33279717: 0.002955756035213834, 33321947: 0.018308671376154995, 33328593: 0.12293716284700743, 33367993: 0.010265932779746464, 33372192: 0.05213733823504763, 33407925: 0.009432741593384609, 33481262: 0.007681211257141806, 33538385: 0.006182867849806658, 33567480: 0.03809567826998088, 33637422: 0.004149269142724297, 33680356: 0.002221692898829729, 33757091: 0.0021484225733396783, 33768164: 0.0032748097924542073, 33849881: 0.032940630966054985, 34083096: 0.011494246421920373, 34113322: 0.0185539127284186, 34121672: 0.027410065806457325, 34292335: 0.01725369314665932, 34298473: 0.012049454695842229, 34336876: 0.0124907667069394, 34354998: 0.005465031736135568, 34482422: 0.03262814939798299, 34617580: 0.027952525762556142, 34735506: 0.010994424306539675, 34756533: 0.018884533252423376, 34829413: 0.016769857817606437, 34843274: 0.012507730267096017, 34900078: 0.027466264965988946, 34964813: 0.005386093226096222, 35034191: 0.022002986654058847, 35052231: 0.004512269016324842, 35107462: 0.0062705729468618705, 35211682: 0.027156043483083276, 35237477: 0.009597305012152509, 35250361: 0.00701649322850242, 35270055: 0.014992576882691792, 35292743: 0.02226079909794109, 35306910: 0.0018036529137580636, 35326347: 0.005153076573326018, 35334391: 0.012702851164300252, 35356507: 0.0040830792083507966, 35392555: 0.03938480385887845, 35458904: 0.010292178248469515, 31323977: 0.00682589507863695, 31425310: 0.014253784298777833, 31452088: 0.004299229608684574, 31468446: 0.04351644138297073, 31526583: 0.008528738254429988, 31556991: 0.04016548896552243, 31591921: 0.01882871954146081, 31655286: 0.011833907362019145, 31663650: 0.008009718950855275, 31667631: 0.01175485917198061, 31728348: 0.007877162579370305, 31728660: 0.025619431917150697, 31793047: 0.0681138328289772, 31915311: 0.007032490178778913, 31919750: 0.022211124121949494, 32016617: 0.02588303464680306, 32047012: 0.007495936974721653, 32158923: 0.015078736580342785, 32158961: 0.004310837072498873, 32255505: 0.004091491027507835, 32276880: 0.013829777721414119, 32362461: 0.00222844123397952, 32400932: 0.005517090148173589, 32468394: 0.024444979269011274, 32613098: 0.02186283177757962, 32639051: 0.006634816992004957, 32652613: 0.03418540559948647, 32739936: 0.03480988258629393, 37026554: 0.011560124641414657, 37032671: 0.017065496837061593, 37061023: 0.0040719655802522675, 37131566: 0.023745374463543197, 37179209: 0.005835065309239522, 37243595: 0.02576181600378127, 37297021: 0.012029296621757876, 37331423: 0.004107266714701418, 37400147: 0.01219253665395007, 37497391: 0.0025876635168587316, 37584615: 0.0034035376216276125, 37593868: 0.004097655096451977, 37593992: 0.01551424183479633, 37652572: 0.04083824275719163, 37669357: 0.005579903091111058, 37670240: 0.004451295245932466, 37728339: 0.011965490358396181, 37779362: 0.02472365773628032, 37849704: 0.0067783148344904565, 37882040: 0.024780134764897592, 37901793: 0.0053117902474420576, 37967188: 0.02660774528967722, 37980517: 0.0028329525015773314, 37989952: 0.004381741671416069, 38007831: 0.010106942491941549, 38153033: 0.010065648632662126, 38156944: 0.06303969841792685, 38253534: 0.022611154530233768, 38342244: 0.028888967232692728, 38345627: 0.03853763824633874, 38464202: 0.12027578020791713, 38574433: 0.017140418185120933, 38755390: 0.025026812658808305, 38833779: 0.011569740930735857, 38904159: 0.018864037944791055, 38958735: 0.009135267740087674, 38980932: 0.021188270481030398, 39000674: 0.004987486182689953, 39171985: 0.010104775918303057, 39217006: 0.010659365687769781, 39280615: 0.012809096002111879, 39293265: 0.008827474104890232, 39303262: 0.007648947983530545, 39322520: 0.01426047639838512, 39345917: 0.002297344674879952, 39368416: 0.00632620695344282, 39390739: 0.007940187145901402, 39562449: 0.008138607153293684, 39585214: 0.0316326099074541, 39614564: 0.01829643870659284, 39675445: 0.034519207312205015, 39727947: 0.07534268652041522, 39774839: 0.012680919725471139, 39797382: 0.013522351868500787, 39813131: 0.007631488215002955, 39817115: 0.022548223465234794, 39902695: 0.002206116329842468, 35673556: 0.031850243389875035, 35729649: 0.003298388144052666, 35757264: 0.009491782992299535, 35795560: 0.01430230326398374, 35804330: 0.01039553699800166, 35847782: 0.010681473148926448, 35892659: 0.020435274770946234, 35917094: 0.005822568389941347, 35927164: 0.005699082422897545, 35973111: 0.028051798531950722, 36310013: 0.016090261798908243, 36439749: 0.002353578928144443, 36450985: 0.0027189384090641608, 36484005: 0.0032641777596422675, 36484254: 0.002520540494367323, 36543677: 0.020419447061965374, 36579642: 0.047876251622404095, 36579839: 0.03808839732669712, 36598455: 0.011978402254607286, 36619752: 0.013192146018009653, 36643850: 0.0034068488629011044, 36662188: 0.0015851933936232754, 36666029: 0.010042172045504285, 36742560: 0.04165738375876326, 36749242: 0.014698231872836127, 36753304: 0.01178399797678226, 36794719: 0.04007639344263716, 36835927: 0.015809526874890414, 36875530: 0.0032116887335982393, 36881878: 0.038615213314413345, 36891093: 0.027892581020197954, 36906301: 0.006498761106049653, 36928057: 0.0074675951863285295, 36961531: 0.08176452569654173, 36968102: 0.009749462211502895, 36984150: 0.004799955523442725, 36991237: 0.02018809011969041, 37018026: 0.01703571578461668, 41546279: 0.015954186913099803, 41580016: 0.007802445482941989, 41609161: 0.0032313443078313686, 41668588: 0.0021908559745327755, 41677925: 0.001980242525347541, 41731654: 0.07831857662044377, 41757168: 0.06733512356311061, 41815118: 0.018232157894600948, 41905327: 0.010703502790044603, 41956157: 0.004886282318279861, 41958461: 0.009143170871410618, 41974496: 0.0020589174654192534, 41974555: 0.003385026637576365, 42149032: 0.01972243488223695, 42155809: 0.04046589851326512, 42163310: 0.004688181820393497, 42174581: 0.015383585147395544, 42262371: 0.011881108151199523, 42332846: 0.004747903652977272, 42347365: 0.01367561379434874, 42360671: 0.07704447462480409, 42393261: 0.06311348002584444, 42411494: 0.018556800801170822, 42416319: 0.018504009304387132, 42444204: 0.011529898114657156, 42469790: 0.0037602797407851464, 42471422: 0.011400283162793769, 42549636: 0.010306470362118016, 42586177: 0.016111001800026066, 42669424: 0.016404679869520686, 42674415: 0.008544481604041258, 42694174: 0.01670883841940544, 42736966: 0.005655446143591974, 42757076: 0.002584616193902859, 42812440: 0.06546400429922991, 42846434: 0.008766138223378971, 42951365: 0.014029775417156552, 42960975: 0.004902206059126098, 42980570: 0.012312344043576885, 43003632: 0.014048182151045755, 43098662: 0.01862355099129301, 43194901: 0.012703955883836078, 43250171: 0.006712539307813114, 43334967: 0.003786382498190583, 43344741: 0.007292081705690373, 43379979: 0.0074381054616996815, 43399069: 0.01956438687284102, 43419164: 0.0178301181802061, 43441237: 0.0020792055451801413, 43562594: 0.022625127064521952, 43569250: 0.04244447999847513, 43601944: 0.01420816093943335, 43603241: 0.0025240596110543316, 43607423: 0.03615972744243107, 43610835: 0.007522218185245462, 43611227: 0.003664533563378516, 43617005: 0.018432590805901167, 43627595: 0.004100521210987987, 43655965: 0.0036075236746542535, 43825684: 0.011300959833579084, 43853813: 0.028027231589700292, 43867095: 0.004566797092712446, 43911472: 0.013107034667810031, 43959031: 0.0048168890401554835, 43977806: 0.024548099854543724, 43997189: 0.025029705485553354, 44008170: 0.003864734045245445, 44035836: 0.08216722227657261, 44133735: 0.004797293727331062, 44146329: 0.01050867734509395, 44240443: 0.0025647183160433153, 44254295: 0.002166301021677574, 44258772: 0.006063322732303329, 44270128: 0.0120908228711947, 44309134: 0.021720076311065033, 44424763: 0.00948004428780061, 44494636: 0.006830657716972871, 40030145: 0.002867077430123975, 40055348: 0.019141573006399626, 40068424: 0.009737860438375184, 40075315: 0.015771371175184304, 40116717: 0.010427386436146763, 40428462: 0.013669498430636296, 40438099: 0.002583735441201907, 40475635: 0.0033458152041839066, 40478583: 0.021425249809211445, 40536338: 0.04241277815189428, 40704884: 0.04622858301528507, 40748148: 0.010963197919851656, 40759810: 0.004277200716504257, 40774543: 0.02923977453819065, 40783886: 0.11082433746342146, 40790752: 0.015626303788229396, 40797848: 0.024184570361080793, 40845811: 0.0067090287482306785, 40867519: 0.006823252006202022, 40867822: 0.003186935991525371, 40909056: 0.003639555357254486, 40956516: 0.006580829251239564, 41008758: 0.00969809713723937, 41047099: 0.007296381273824065, 41055774: 0.015037825478762798, 41300601: 0.022199727484680198, 41451023: 0.0037234673454334516, 46302846: 0.015410682528766496, 46357913: 0.031063761374390413, 46374359: 0.019067432640761956, 46426771: 0.012663500410999983, 46448252: 0.04287119774273709, 46493906: 0.010942185450682361, 46551547: 0.005408051601001983, 46567337: 0.004909025649143464, 46576311: 0.00289887278171341, 46613990: 0.008008887825121123, 46626475: 0.020115563526279495, 46665704: 0.007850796164798614, 46677020: 0.005705508286955661, 46719542: 0.006440547369038906, 46745914: 0.01876811574673356, 46784964: 0.11271610896801187, 47035547: 0.007971187705858246, 47150650: 0.004857577254241944, 47155656: 0.042900455526866145, 47270314: 0.015718071612023383, 47339470: 0.013725169071696472, 47350955: 0.008787726728183514, 47419336: 0.02809810006240405, 47434601: 0.04773165025071249, 47489893: 0.008647096441187862, 47586513: 0.016384517833072293, 47615485: 0.006788287141149628, 47638279: 0.012985532970720321, 47764842: 0.023015292294738674, 47769544: 0.0066626105136560355, 47770304: 0.02361579313683647, 47775306: 0.021324258224437197, 47775348: 0.03276060170670208, 47778072: 0.0029630319958079674, 47799755: 0.07910660849433007, 47806602: 0.009564357229414884, 47827570: 0.010168284205397301, 47827574: 0.03752995540903777, 47837049: 0.025538982431334234, 47840259: 0.03933346519380032, 47840375: 0.004129237843747446, 47862672: 0.013246893378168648, 47892671: 0.006549669108126459, 47987665: 0.04208020090640969, 48241318: 0.019430713291418482, 48253536: 0.0027160178395048223, 48253954: 0.016336644331305758, 48286897: 0.11343499825616636, 48308444: 0.003963714154538379, 48315099: 0.016125974525916773, 48317971: 0.05720614950447263, 48364486: 0.010111691048123556, 48449792: 0.0038746049861482354, 48475515: 0.02809230852236318, 48530084: 0.0135921607866651, 48534532: 0.01985215495798188, 48561519: 0.004717062768866443, 48653985: 0.0038640179521108784, 48658625: 0.005818997457662507, 48695845: 0.024581922297739298, 48736239: 0.004879674828016489, 48870396: 0.003071514655003653, 48936348: 0.06642056462415398, 48972018: 0.010941486711562783, 49065540: 0.011111827165854953, 49090939: 0.10887348671509561, 49127538: 0.005156673854031744, 49132107: 0.004102015011404863, 49185121: 0.02365924660476802, 49278248: 0.04967434010370381, 49281083: 0.010836510099842411, 49380722: 0.008027437006943033, 49458922: 0.009554413296502905, 49647732: 0.010453621988726111, 49770662: 0.024794546894681444, 49778089: 0.00693882850348568, 49891754: 0.06671057133716607, 49926096: 0.006037087998677761, 49931371: 0.009129603230939793, 49954680: 0.023308290848416995, 49998617: 0.08011937174482918, 50083054: 0.022492558288297812, 50230910: 0.026241604609614763, 50276487: 0.006739908808308158, 50278739: 0.008457511062647194, 50280699: 0.013958757935661556, 50364362: 0.02745119903428365, 50394170: 0.003967343136289066, 50404581: 0.008454813486468482, 50462114: 0.02166317400304951, 50498250: 0.010021016155007853, 50533783: 0.008817923436248917, 44822802: 0.0041883881175178795, 44972706: 0.030345524730640235, 45064023: 0.004245469321138741, 45079706: 0.005917600028002874, 45112545: 0.008572003259902043, 45359871: 0.0029294958268980256, 45443335: 0.004508693818900393, 45482242: 0.05203399158571596, 45691897: 0.010207379627012346, 46186668: 0.015964091310435163, 46207323: 0.010255158000091065, 46208997: 0.002683211837513592, 46269496: 0.010447701542678444, 52076814: 0.006816782391918928, 52077192: 0.014361631386738138, 52140446: 0.010126512626374169, 52146943: 0.008409842374374702, 52281147: 0.0383837611185742, 52412294: 0.01755432454189113, 52454088: 0.0062079251947111105, 52554299: 0.021921023093667228, 52647644: 0.0064468378929604725, 52708523: 0.026810550893539033, 52766120: 0.003864033991895281, 52840911: 0.013866309059568966, 52882803: 0.012616319470183152, 52971602: 0.013585903194057367, 52985524: 0.0025969957549401277, 53035710: 0.020273772803263007, 53066659: 0.005364749530853013, 53087254: 0.04947779319224109, 53123104: 0.012598966578550726, 53343108: 0.02008475412556116, 53354661: 0.012963935758062083, 53356243: 0.007785112147653985, 53487581: 0.02994571591871012, 53653129: 0.003570254330720388, 53672527: 0.00823025569982114, 53748793: 0.05401530733960909, 53866975: 0.009513553468402085, 54077917: 0.022823684931282343, 54145741: 0.167775144774628, 54155622: 0.026347250033054576, 54284514: 0.01689804308361542, 54351136: 0.008499806855874389, 54406331: 0.005769613063338045, 54415758: 0.016426385483352228, 54537218: 0.006339914901732983, 54595558: 0.05210060291811086, 54647064: 0.0014576548144718754, 54655786: 0.021023968906406558, 54736719: 0.041804276733541076, 54737654: 0.009259917511315741, 54840207: 0.020477219283035274, 54859596: 0.004388960873901717, 54863336: 0.016762464853589447, 55052729: 0.011768825521120175, 55115883: 0.012103682712077603, 55207134: 0.027434950061422863, 55225594: 0.02629644792534917, 55411770: 0.01381660128889367, 55449550: 0.0153574512387838, 55511147: 0.008107562270187371, 55511148: 0.004853104027317275, 55511155: 0.008100314670133836, 55536490: 0.026930206992099665, 55633178: 0.007690818533593073, 55775421: 0.0166509196364796, 55825336: 0.004075302007898989, 55840499: 0.028470614315524088, 55864774: 0.010289372852969466, 55935213: 0.005980772752707921, 55960921: 0.02099670306907145, 56023027: 0.005833332212234425, 56042524: 0.0064678608265068315, 56069398: 0.031926503350943186, 56081344: 0.02949649171707159, 56289553: 0.008673946166391578, 56289572: 0.007738986948992351, 56289672: 0.005665038719947349, 56313056: 0.015746861901947726, 56313776: 0.02751491415963964, 56363941: 0.004318023803939799, 56412300: 0.10528229613899988, 56440599: 0.010352221665818426, 56440839: 0.0023858789625090457, 56499662: 0.021146158542181943, 50565707: 0.020031611008054315, 50575063: 0.009808625432382433, 50577743: 0.0070114941241783265, 50653758: 0.03648899586939777, 50683920: 0.00297944524774514, 50716473: 0.011991811252035354, 50727159: 0.010459883553815127, 50777038: 0.017301799864777607, 50977642: 0.014895006384870822, 50991931: 0.01637478580305198, 51078678: 0.011699781246989898, 51097615: 0.009839422062799256, 51112472: 0.009624849639659446, 51328172: 0.006855656376600047, 51430647: 0.00239344766136576, 51478870: 0.015522527656297315, 51505979: 0.010759719843782779, 51552534: 0.01339368678303559, 51578025: 0.01282714861229983, 51729995: 0.004599102172218157, 51895777: 0.06320049402632871, 51990351: 0.010198801316714311, 58534087: 0.012006586355292894, 58582001: 0.006324486648065995, 58708106: 0.02000247075681647, 58847654: 0.004789359554503458, 58946599: 0.01699960815211006, 59052395: 0.014677370676497128, 59116880: 0.009047790453748894, 59162931: 0.007904333864066793, 59405867: 0.015312730579441276, 59407816: 0.014695574881112448, 59440349: 0.010112374750329878, 59480957: 0.002790519264160552, 59502488: 0.009521477750719438, 59516988: 0.015165707066025285, 59519477: 0.016635306774162514, 59534710: 0.00820683859250018, 59539691: 0.002911600792949218, 59540110: 0.015244419979691752, 59568301: 0.014719092541270322, 59580357: 0.012952721026828573, 59591015: 0.009324952113401272, 59594788: 0.0035215267205726437, 59798759: 0.004911120052123949, 59800766: 0.004698746368691601, 59863622: 0.02085251473733062, 59868408: 0.00929737328783967, 59872594: 0.004318154772768725, 59899027: 0.015429521424282031, 59917348: 0.024674252136114072, 60085976: 0.01144127275313219, 60088597: 0.08053112273135023, 60199413: 0.015136075539874724, 60283633: 0.008814679179070181, 60300514: 0.01630934678514207, 60310807: 0.012634479711971468, 60383204: 0.014913668569131547, 60395596: 0.012195939597647332, 60421513: 0.013775344612741583, 60446377: 0.0034621084054160156, 60463979: 0.004377194593940386, 60468426: 0.016088665382808905, 60483582: 0.007898799056728197, 60500106: 0.02084788490693816, 60534633: 0.004917713113199919, 60535326: 0.026143028203226157, 60583278: 0.0137644881746679, 60587000: 0.019586922745728364, 60587209: 0.009235909289033721, 60616450: 0.01152623603980424, 60670913: 0.012455610878879154, 60698570: 0.004967353692959625, 60705564: 0.03537049392317828, 60739751: 0.0058327581838154815, 60744481: 0.004817720256612255, 60754840: 0.00825353666110353, 60769053: 0.019511549381779996, 60774345: 0.009708575544575597, 60805249: 0.02763483626653246, 60823333: 0.013077109099377461, 60851303: 0.0104955406430285, 60862228: 0.02510695556346511, 60888779: 0.021769889639020934, 60898024: 0.008444510343941513, 60952488: 0.005708806696034525, 60992198: 0.012320313084291773, 61073786: 0.0038828652345633415, 61285582: 0.022995136507593366, 61329320: 0.005052974033604412, 61386909: 0.009037071703488822, 61402898: 0.009294278680292352, 61422444: 0.009148544304499295, 61513780: 0.019677684951882723, 61583621: 0.013534593633852208, 61592102: 0.008646438570744663, 61624594: 0.007712630658702436, 61651800: 0.012640661912331973, 61690747: 0.02910974299107125, 61699239: 0.010328542224758727, 61742595: 0.040185141835101836, 61893262: 0.003699723166196004, 61932070: 0.012520022917003675, 61962436: 0.011043878612210721, 62342792: 0.019742917653612916, 62372638: 0.0030558915598400582, 62380392: 0.009948893264138533, 62438513: 0.006010867049517741, 62482816: 0.0065750233255885086, 62549131: 0.039001247599425214, 62557135: 0.03776529108858362, 57069491: 0.010163006842553949, 57143357: 0.062459476053362335, 57159776: 0.051918806104445145, 57228339: 0.03189428553341423, 57275457: 0.02952585545731129, 57275912: 0.007497876743166094, 57294217: 0.010308993204431561, 57312392: 0.046247478988948244, 57313961: 0.017099691249756136, 57393329: 0.010071834340459959, 57579192: 0.015235553331750685, 57591892: 0.00705448245300457, 57672434: 0.027582583297708317, 57685061: 0.004617577648455941, 57772096: 0.004589389517204518, 57851653: 0.010546316535736597, 57944031: 0.015924098279424453, 58067594: 0.008394963907638107, 58150649: 0.0059973996254489865, 58255600: 0.01883714796162943, 58255666: 0.01308695034409406, 58481694: 0.0020706393130881916, 58520592: 0.009811244784642924, 62705077: 0.0020826320193733697, 62798611: 0.010418615781277191, 62851606: 0.06468114619279075, 62871079: 0.01668785879542282, 62936384: 0.015164120061246747, 63011479: 0.0051043338348915, 63016369: 0.007576203965966058, 63090179: 0.016537430741617964, 63090183: 0.005040951769311306, 63148404: 0.005208939532176544, 63164437: 0.011694367078291822, 63198823: 0.012133030245559328, 63241742: 0.006392047857234462, 63295665: 0.008176727462015592, 63327652: 0.007672408571018085, 63351334: 0.008600975596950442, 63567907: 0.01230832722196505, 63602774: 0.02157724055931501, 63609800: 0.010119685896086998, 63631542: 0.005639069978545955, 63704575: 0.0035373243512519977, 63883178: 0.028078453313671235, 65499427: 0.005623029601772004, 65601792: 0.008056677038458882, 65693607: 0.02915003299072696, 65732625: 0.013389676113688229, 65766671: 0.0047322509513260955, 65785040: 0.008166446482484763, 65785063: 0.009037650098811299, 65967176: 0.004977566038373708, 66018807: 0.016602106325582535, 66029904: 0.0051179550342676195, 66255918: 0.00722980400181942, 66259016: 0.015185697384247089, 66273148: 0.012412244065397631, 66293350: 0.005929005652255162, 66355340: 0.00506545738007249, 66414222: 0.015003500903286431, 66423851: 0.05404764285910266, 66591573: 0.008460664926709261, 66605355: 0.029559747892149015, 66814247: 0.006619264126263697, 66846904: 0.0056903567466934386, 66859257: 0.03732990582601979, 66935753: 0.012728803364432438, 66938917: 0.03083403929941653, 66963891: 0.011337060381107062, 66982525: 0.011447614789430788, 67063906: 0.01594485181842088, 67063919: 0.014166348104791537, 67071821: 0.012813610547212043, 67072363: 0.05171646431996842, 67092078: 0.00820441049862575, 67162622: 0.00845841791654721, 67229718: 0.0031685926202159567, 67279077: 0.017869342248295284, 67414554: 0.0185955534095423, 67493391: 0.030243229655734234, 67528700: 0.003321190681767278, 67736156: 0.0076916556274650326, 67754025: 0.009662758855267769, 67759831: 0.015698073330250962, 67891964: 0.019563020688701173, 67924707: 0.00863491524694855, 68181697: 0.017544071713608392, 68186473: 0.01178131147250807, 63995662: 0.027529596118904067, 64027932: 0.013831536522539076, 64057049: 0.005858131805431021, 64057670: 0.027489158301617838, 64063961: 0.006002637708154856, 64114692: 0.004695399222957566, 64159270: 0.026692473329982418, 64192678: 0.004554147668832403, 64210828: 0.005838510928284079, 64269900: 0.019352240633106206, 64302888: 0.021215428328876153, 64437720: 0.018661620642291987, 64444618: 0.010452386762179461, 64499620: 0.004231268063119078, 64502192: 0.011470571268057157, 64594706: 0.0461654897179795, 64639133: 0.005989229539022457, 64695698: 0.016710964189494807, 64704775: 0.003926178928384479, 64784613: 0.002940536400681175, 64966775: 0.009973064685830956, 65028817: 0.0057809612166930995, 65166616: 0.004740186505630662, 65176113: 0.004083118092276844, 65217527: 0.005147599693475821, 65366095: 0.007394885192444277, 42223: 0.0041612954472931875, 42253: 0.009217764681297586, 42801: 0.009689627564647576, 43376: 0.0060442173257993495, 43494: 0.007613421001857236, 43707: 0.027492566424160078, 43937: 0.005969121165929295, 44547: 0.024473816673947615, 44568: 0.006361412626241807, 44808: 0.0074221172487011445, 46023: 0.007683231292911345, 46482: 0.014182046619539578, 46526: 0.004288415755737945, 48212: 0.010591762424146096, 48340: 0.008006924966715519, 48732: 0.009232750412397489, 49355: 0.09501072466506486, 49681: 0.025750808793624704, 50795: 0.015372900559037422, 51582: 0.010752244511131222, 51800: 0.004176187560205826, 52042: 0.005158130496525815, 52328: 0.00457337771858984, 52906: 0.006003188680071479, 53469: 0.01419976255206945, 53916: 0.009056222669592422, 54019: 0.005894393312463019, 54229: 0.011100630235419412, 54573: 0.013840748977872174, 54587: 0.019084095876211543, 54632: 0.010728828676282711, 54923: 0.004067869308297031, 55539: 0.022292180740049385, 55791: 0.0036176773940981895, 56099: 0.012062259345602778, 56232: 0.017578680910927087, 57559: 0.010200131493056023, 57866: 0.0024717175689230315, 57947: 0.015854012402174815, 58731: 0.0065153644590535105, 59024: 0.04943470158818408, 59400: 0.019845007102202692, 59892: 0.0026095126218478944, 59988: 0.0013889470487858456, 60883: 0.005033033453347244, 60903: 0.003197274913257021, 60904: 0.006304716516173346, 61371: 0.03387589650350443, 62149: 0.024228379517279415, 62153: 0.019110572827314435, 63121: 0.006568061599624392, 64083: 0.01227483480462432, 64085: 0.014700760556097965, 64088: 0.04930656274352065, 64487: 0.004434208829538238, 64516: 0.0047366120213226835, 66554: 0.00875750914443313, 67922: 0.012696845239648119, 69893: 0.010934708466935783, 70129: 0.0027765730442858524, 70136: 0.006688184964867933, 70322: 0.00421664304027939, 70547: 0.012334992378580437, 71265: 0.004021910714956758, 71899: 0.00840440262540604, 72573: 0.006150368677319711, 72852: 0.0052177247766007915, 72855: 0.00498372806197761, 72857: 0.003618697391466332, 72858: 0.004353986703589775, 72861: 0.0054878297432887, 72866: 0.005838682883245218, 72875: 0.006982829156762204, 72878: 0.006941523073339557, 72883: 0.005624896077388701, 72889: 0.006982814563024337, 72893: 0.005500347342892798, 73453: 0.006007501041897935, 74910: 0.012107654192621622, 75222: 0.004039736689601223, 75290: 0.0029439980257119688, 76046: 0.008052644083029949, 76723: 0.02262772754487059, 79732: 0.009252876662950557, 79906: 0.0032781555215882054, 83024: 0.0051581396618739835, 83036: 0.011974029816309597, 83742: 0.008549962658676555, 84241: 0.013392181978707918, 85533: 0.005232922679529667, 85655: 0.013092936839993364, 87644: 0.009469864715654908, 88595: 0.005002622573455339, 90267: 0.018918630887541258, 92222: 0.02049678023772076, 95411: 0.018926330054702196, 99860: 0.007139853960182004, 99951: 0.0031807821836450758, 100640: 0.009117890536093956, 100710: 0.014058207891153925, 100970: 0.008683245556252777, 106121: 0.0027722233145226045, 113092: 0.002321986805729957, 133574: 0.0030455636537576724, 141013: 0.0010166972712531638, 142049: 0.0020821022054482476, 142417: 0.0032231052288935725, 142528: 0.0015154133376047234, 143377: 0.0010256998055200714, 147143: 0.0075814152387383696, 147484: 0.0058704942495609105, 148869: 0.010388455239069455, 149124: 0.0025073627409784426, 149354: 0.0035571313822499173, 149426: 0.014854207411077371, 149463: 0.007162683078394484, 150389: 0.021322701238708393, 151327: 0.0077144634343916515, 151944: 0.004790107988879516, 157649: 0.00520419581427224, 159546: 0.0057330759002632925, 160108: 0.005739833708188019, 162296: 0.008714055859232935, 164376: 0.0043941677790539264, 167585: 0.003382081452933448, 167891: 0.014030054278996947, 168223: 0.0049812521741183155, 169131: 0.006718011129438947, 169672: 0.0017447512300405145, 171581: 0.0022524565846823537, 173332: 0.006794571395208863, 175537: 0.005676165252374116, 177541: 0.0031819213320723066, 177671: 0.011897732890176952, 180251: 0.008692178631632312, 181094: 0.007606823038347215, 184136: 0.004890760726404894, 184959: 0.004397045658378896, 184979: 0.008277070771894246, 187946: 0.00640974804030147, 188521: 0.017079572305261796, 193714: 0.005267143717948471, 193957: 0.03137683313461356, 194085: 0.005513072759017198, 195809: 0.015974808359648318, 196698: 0.012929983339823195, 196789: 0.022444378843963275, 198153: 0.004638114118967265, 200563: 0.005528659599803971, 200734: 0.004763394617840154, 201525: 0.0023488757320748676, 202437: 0.010574867623567803, 213251: 0.002561341828109275, 217241: 0.0038755116015985976, 218406: 0.01021094677124705, 222266: 0.0389622105081743, 222491: 0.004403544062224043, 224220: 0.004411870645439059, 224584: 0.0077686974131686536, 225870: 0.008969194262744477, 226402: 0.01503791123553671, 228190: 0.023300292763870002, 228234: 0.011991074630921706, 228541: 0.0032741453726345677, 229236: 0.004787738280495531, 230716: 0.022634042724490783, 233488: 0.004670538362179341, 234876: 0.019447564827305766, 234921: 0.007960238817381154, 236424: 0.0015496142079676548, 237489: 0.008065992873777229, 240148: 0.007895169059680896, 240668: 0.06556290857988847, 240940: 0.0031280308142647836, 240989: 0.012584314348998997, 241559: 0.02459032843233215, 243389: 0.0058664808159108045, 243674: 0.005795650658672494, 245067: 0.006692070466985876, 246185: 0.007387837928674397, 246674: 0.00841536963585037, 249116: 0.0035177975559589378, 249858: 0.00607923654442247, 250247: 0.02822687719452452, 254067: 0.006775586028697718, 254519: 0.0021865632670752064, 255645: 0.007011477553840551, 261193: 0.010447063232740797, 261396: 0.0028303105699395694, 261709: 0.00476286350041386, 263154: 0.006173419878690512, 263344: 0.001348222137583858, 264104: 0.009609542761180808, 264917: 0.008944699663838932, 265033: 0.0033148808595612894, 269558: 0.015311409642653437, 271890: 0.008555098541186445, 272659: 0.00875122462613095, 276975: 0.010952703759503829, 278018: 0.005940773199376059, 283858: 0.014939935265801023, 286455: 0.004225081115584312, 286747: 0.0050573976303903995, 288328: 0.015846564614146266, 294295: 0.010234509245689758, 295993: 0.005807466634386034, 296950: 0.01329452081443115, 297576: 0.03040573956373007, 298232: 0.005789317891731209, 299250: 0.008629604579731744, 301064: 0.010460117523707284, 301932: 0.009830842237293838, 302808: 0.0031769376069794033, 304091: 0.003872410083943884, 305175: 0.007386560905641633, 308868: 0.003919844486903013, 310429: 0.006023000954936806, 311440: 0.015642182119122768, 311935: 0.004029609234857186, 312903: 0.008227676574580978, 314544: 0.0038644463527092343, 315141: 0.016744310349294467, 315204: 0.008721674660984103, 317752: 0.011577609508152661, 318313: 0.0035182546725906916, 318873: 0.013498583525920916, 319703: 0.01018732657716374, 322197: 0.006326817737730267, 322210: 0.010090937575503452, 325507: 0.012179688272820061, 334546: 0.015555445511755495, 337814: 0.006908264593260719, 340356: 0.006617308975405492, 340407: 0.01040562226757281, 342398: 0.007971857921480113, 344269: 0.008036567942083912, 344293: 0.0027774490700266637, 344611: 0.027620128337058084, 346029: 0.007989297671176593, 346470: 0.013134725082773639, 347068: 0.003280317434893604, 348111: 0.003039387096186255, 348499: 0.0019626128718509693, 349448: 0.010275459581852909, 349722: 0.023759285641898217, 356785: 0.0010695986991382368, 359983: 0.018256018010418106, 360030: 0.010085441738251861, 360789: 0.01784475450367834, 360797: 0.008497953067038785, 362124: 0.013771176612970889, 366477: 0.006055981548534376, 371301: 0.00686280217147694, 371327: 0.010717556982535384, 372478: 0.003889039866240119, 376707: 0.002866699392495315, 381782: 0.015280709050813471, 382165: 0.003082643491772403, 382599: 0.007520190159437205, 382619: 0.008174728768049805, 383162: 0.005642742157633597, 384286: 0.005573706708422423, 390263: 0.01868264074672383, 394697: 0.008963288231721813, 396962: 0.002736454782617003, 403585: 0.004132852046054457, 403653: 0.012130410055781722, 406363: 0.003604746888343627, 412214: 0.0061936256662529846, 412488: 0.005077636276431352, 412643: 0.020821571339722206, 416589: 0.007225224496306212, 416752: 0.004851046152033467, 418999: 0.019517869855886997, 419015: 0.012223094141176867, 422269: 0.0014475607624815394, 426315: 0.015663482338256464, 426522: 0.011794839546370152, 427577: 0.002507866409374908, 430008: 0.020911135067413034, 430980: 0.01693392049155974, 431786: 0.03635598799975415, 432174: 0.020958925331451644, 435492: 0.026994597781838183, 439102: 0.015756515779597795, 440018: 0.029494502166192805, 442333: 0.005346572700565223, 442684: 0.015013952710012466, 443480: 0.021144532836463285, 446865: 0.02046002087014891, 450389: 0.005991822279641706, 456363: 0.022658804037336593, 458008: 0.00352133683667856, 459304: 0.012047534984161463, 462173: 0.021291768006714833, 466299: 0.008316879069741287, 468313: 0.015398048537469448, 469664: 0.005252664904516735, 475952: 0.004177277163372675, 479210: 0.009648362841062902, 480905: 0.01090738843311318, 483473: 0.027300915669366887, 484030: 0.003481483615893306, 487090: 0.0016669358329543746, 487132: 0.010713232021021285, 491172: 0.03952115814998757, 492540: 0.0058190822144195626, 494530: 0.03184978340805715, 496821: 0.002893819352634263, 497794: 0.007203624613292392, 498076: 0.008896084714821749, 498971: 0.003039876191653342, 499537: 0.0026559752769601546, 501757: 0.016265744435176973, 502593: 0.010706624312080885, 504230: 0.004510330194234709, 507776: 0.01571477569659258, 509624: 0.015628568837953355, 509628: 0.01919419551131833, 509738: 0.005395055420540406, 514894: 0.0038276946982205855, 515436: 0.012653023312242133, 515758: 0.022531871413680623, 516570: 0.02201459779715492, 519667: 0.023912083179185098, 524987: 0.0072211742506096835, 529056: 0.0033791080175744805, 529439: 0.052561734426041715, 529780: 0.014874583449896742, 533214: 0.006961777197414255, 538393: 0.007830783731219941, 548182: 0.01680759049991737, 548336: 0.013929278935243657, 550448: 0.016350842259288702, 559339: 0.00942877067666659, 559356: 0.004355564397297843, 560306: 0.01814016257376604, 565318: 0.0038569948480348887, 566114: 0.01776880397068738, 568164: 0.009545876270914588, 575890: 0.007503612191984423, 579040: 0.009073812380003385, 579516: 0.004609079265234078, 580320: 0.015462793353303618, 580517: 0.006795620828631079, 580715: 0.024730331030455747, 581077: 0.01951321586518463, 582735: 0.013661960071781044, 585681: 0.013935394124078305, 589513: 0.002617521535741873, 591668: 0.0032997346225975147, 592436: 0.009234000137413852, 594987: 0.01512634594639827, 595149: 0.010340443539491767, 596078: 0.009510782102393334, 599738: 0.010656308701165964, 600236: 0.01993069947850548, 602599: 0.009049546847908348, 606737: 0.012311735825853532, 609528: 0.004048638669508903, 610452: 0.00420432099123353, 611752: 0.022038152173035962, 612052: 0.00343774032509398, 617668: 0.019553516452584702, 618856: 0.013137654462479885, 621531: 0.015532224090293634, 621809: 0.007538382084207358, 626718: 0.008605827423510518, 628467: 0.006735469267691769, 630522: 0.005902794809582645, 632990: 0.016387317060213808, 633458: 0.022263632377432275, 634940: 0.00857040775755755, 636344: 0.010265955447420393, 637004: 0.0063885073954255776, 644332: 0.0064131579816983485, 644781: 0.0059518896463027614, 645111: 0.007000817746941869, 650704: 0.009120299666301323, 654732: 0.009257950555086316, 654916: 0.002970408024861839, 657055: 0.029008982663811106, 664951: 0.00729135238361794, 666420: 0.00521429240256501, 667785: 0.002732614733332673, 671331: 0.006437350055310112, 671431: 0.009935907349466762, 672302: 0.0064973461162716704, 672934: 0.0036318046146332672, 678353: 0.008615891720140014, 685130: 0.03758829671332462, 689763: 0.002197538063119964, 692988: 0.012026348467711346, 696077: 0.004386438196006321, 696712: 0.0232842244496536, 697063: 0.016422188973276967, 699156: 0.005526143124249639, 701741: 0.01384072997518228, 702635: 0.010320329978301582, 703758: 0.007845460096074633, 704826: 0.010271062583162544, 705310: 0.010120148907128907, 705756: 0.003505600242398093, 708662: 0.006352853750193467, 718110: 0.011593302308500492, 723126: 0.006677206924561827, 728321: 0.03929411512910444, 731640: 0.014607797311355865, 734272: 0.03032683759471299, 736238: 0.019901557112948248, 738384: 0.076597934532567, 739855: 0.014704753130113957, 742316: 0.0090736715119147, 743971: 0.005889401286747718, 744158: 0.01477675496516871, 745000: 0.02021127462151533, 746225: 0.005828383205530299, 746577: 0.005829425242219806, 756765: 0.015466563735544387, 762092: 0.008507507972463243, 763947: 0.009124951265415418, 766875: 0.013868042005157283, 773423: 0.006317028529123493, 801978: 0.026661587746054073, 805626: 0.004808658899369533, 806538: 0.02293262279562387, 818234: 0.004588159810199885, 818420: 0.009946670669865142, 819149: 0.010992994090759036, 821829: 0.011777718216765307, 823320: 0.007787482338225949, 827717: 0.00724699506193617, 828085: 0.03085004826460512, 835946: 0.009291939006160611, 843361: 0.01152209356189599, 845137: 0.00909164750862263, 846772: 0.012322198266560912, 849869: 0.01135160953564266, 856246: 0.011043874875910175, 858120: 0.038034184296263075, 859458: 0.01724119420474931, 863306: 0.0055180737752201425, 864249: 0.024173162608786398, 871796: 0.04443078633462535, 872439: 0.0037674884798133694, 872876: 0.008133385952078504, 877461: 0.006395034303150582, 878659: 0.006356346405907909, 878666: 0.010923410859940412, 879000: 0.004217864015330502, 879962: 0.008403685789297045, 881491: 0.010685645112358875, 884056: 0.03769311734502848, 886827: 0.014907448066555879, 890793: 0.00860277199802466, 896634: 0.0048958607988459045, 897934: 0.00729080252580371, 898916: 0.007090077297365289, 901091: 0.009053844137650386, 903052: 0.029478652941226733, 903187: 0.009503062402424793, 907259: 0.007030035729386529, 909036: 0.010387242485628239, 910244: 0.014160035980034512, 912227: 0.03471734950273411, 915309: 0.0034163584675130513, 923698: 0.010266965308536354, 924141: 0.005443633451840248, 924170: 0.0037281175467994395, 925493: 0.005451883091950652, 925506: 0.004948151359242255, 925728: 0.0042939783067740414, 925736: 0.0032700288475192994, 925740: 0.004580682794203867, 926863: 0.00999306423903304, 936243: 0.022209145685505756, 937047: 0.017545400684529762, 952429: 0.007819639704978716, 964717: 0.003465973344838036, 976322: 0.004996376414167655, 976456: 0.019695380617244254, 978107: 0.0032909701060234485, 978236: 0.02433942932324363, 978408: 0.015217387774004536, 987153: 0.010745490746673646, 987724: 0.014160839767683488, 988753: 0.011407778322182554, 989858: 0.004531051400750211, 991758: 0.004109299387052592, 992052: 0.004023249963527893, 994892: 0.008679467168333907, 997303: 0.01594889836293977, 1012806: 0.007650838783781921, 1015304: 0.002867072009497164, 1015919: 0.006632089472749784, 1017009: 0.007260827511885689, 1025265: 0.0037238618686528356, 1027207: 0.008602175885235194, 1027896: 0.02972738704755368, 1032674: 0.021998501129047478, 1038309: 0.008387822990397935, 1041815: 0.016169531018098024, 1044117: 0.007699098158118175, 1045845: 0.01336618685680491, 1050340: 0.007422824822424525, 1060171: 0.0048456922238462865, 1063168: 0.010557988095426943, 1068736: 0.004547403020041191, 1068768: 0.006187190891125693, 1071462: 0.0054362903828203656, 1074657: 0.009077148352541697, 1080173: 0.026839174574951927, 1092688: 0.014960659818000476, 1092923: 0.004891688130183495, 1093416: 0.011157356227524142, 1101651: 0.0032612390130993623, 1104090: 0.033122560413037176, 1104286: 0.03784169776125012, 1104969: 0.0025172853291932514, 1111137: 0.007985776548163067, 1118379: 0.003195185569678223, 1124192: 0.02158364150368579, 1125761: 0.03505044433039325, 1125781: 0.007227408328504524, 1127534: 0.009981049181165423, 1129847: 0.003067805699397129, 1130867: 0.0030522208419697812, 1141303: 0.013595043250053958, 1148089: 0.010712927942473634, 1148978: 0.02702288471193061, 1151958: 0.002772404692392939, 1152328: 0.0027313550219137403, 1156703: 0.007239570814023132, 1179348: 0.007587410629310193, 1179787: 0.019563125430290845, 1181008: 0.01134122928262082, 1183972: 0.030208921588188185, 1184796: 0.0025065079062187028, 1185479: 0.001572084869757772, 1185840: 0.00651410607955404, 1187122: 0.02385824433740067, 1188562: 0.03753984186379169, 1197035: 0.01949429966693016, 1207268: 0.01437944782236263, 1210300: 0.03353650573126793, 1211612: 0.016937331885802466, 1217747: 0.0071908228760580095, 1221476: 0.006899090293037443, 1226448: 0.01874081494721798, 1235986: 0.008805582469423291, 1236844: 0.011501254134691006, 1243208: 0.006365506937156719, 1244458: 0.005212955010311486, 1248103: 0.0034615818029258573, 1249019: 0.0029893539559729975, 1257003: 0.0033207612032837403, 1262999: 0.014113823271872628, 1265113: 0.003348752088945437, 1265651: 0.024403788566459608, 1273047: 0.01081418179129563, 1275470: 0.003931163429506025, 1277918: 0.003602160536835863, 1278990: 0.007177963339847864, 1279101: 0.0033692995276635527, 1291991: 0.008912669504683998, 1300923: 0.018676904564912486, 1309220: 0.007633977315682129, 1315248: 0.009598568824018166, 1330188: 0.049986416386826604, 1330224: 0.0067948498051009255, 1339248: 0.005158463549897987, 1343426: 0.014157500522234554, 1343949: 0.017910035812416222, 1350109: 0.01164356138541076, 1360154: 0.02523424759403, 1360573: 0.007660621783129016, 1381751: 0.020579808579792903, 1385825: 0.008591140875421286, 1387946: 0.014144352027828783, 1402997: 0.005262170926727867, 1403888: 0.0031087967826655865, 1411016: 0.018064341758401336, 1412877: 0.018792999865344745, 1421165: 0.013442253815407756, 1421709: 0.023490841487807952, 1428872: 0.005240882983114212, 1431181: 0.02282890148016018, 1435365: 0.003815998832880692, 1435428: 0.007000646483830633, 1440567: 0.04524210319091503, 1442241: 0.0064714295930125695, 1471058: 0.02942050666393531, 1480987: 0.00398050719997247, 1485962: 0.0043739160046704206, 1491100: 0.009360569538158515, 1492414: 0.016388072264687782, 1493164: 0.031382591903690256, 1494648: 0.012136450737248191, 1497849: 0.01027715522755074, 1514191: 0.02264715423499027, 1516039: 0.0090314425340025, 1517154: 0.0470233568774147, 1525546: 0.028892722221594953, 1527015: 0.004729165372110264, 1531621: 0.029196128324904688, 1532857: 0.00922014349754918, 1533342: 0.0037543470383974314, 1540241: 0.010401542970871647, 1549819: 0.008088390463174893, 1558639: 0.016127090964159544, 1562284: 0.009050053423291458, 1566175: 0.016215827979345093, 1566357: 0.006510714839254822, 1572831: 0.006909020510576785, 1577008: 0.02605079339926059, 1583998: 0.01635926721379137, 1584013: 0.0350648328866003, 1591777: 0.014972699711485354, 1613163: 0.01894305356668953, 1632324: 0.013874099381993384, 1632912: 0.01348225235682279, 1632919: 0.009441654357479233, 1645263: 0.00749261721877024, 1652601: 0.047714235579776984, 1655005: 0.004458506671443654, 1660387: 0.0038750607933354165, 1661867: 0.01834589327198699, 1670565: 0.013491475249410198, 1673495: 0.00372223351720319, 1702593: 0.010890198492000755, 1719292: 0.0030554981983979468, 1722156: 0.00784554713483151, 1730071: 0.03766118097773567, 1732642: 0.003520612385278434, 1752731: 0.009514110919226344, 1761526: 0.005136788945727894, 1762557: 0.010603041620994605, 1764686: 0.007182878455457683, 1765026: 0.002866975881704254, 1765779: 0.009349697448580701, 1765938: 0.004555205354238922, 1770825: 0.04098072004520787, 1775374: 0.018065954518984885, 1793236: 0.007737915401828187, 1807656: 0.014898473061031179, 1808135: 0.006044860914519883, 1811320: 0.006300864916034014, 1811390: 0.006345023213652872, 1814699: 0.010977183380518826, 1817874: 0.005954645305181311, 1822951: 0.007119691156767673, 1833715: 0.010586305047085548, 1840653: 0.007528273473025661, 1844187: 0.030932988010718112, 1847385: 0.007322689145354005, 1849140: 0.007043057233053967, 1849681: 0.003229100464148384, 1858763: 0.0036397197851450944, 1864891: 0.003844439596762351, 1878531: 0.01856318894821567, 1884312: 0.004426172730700434, 1889217: 0.02646918789450883, 1890951: 0.006990797274918553, 1896889: 0.005303139503336751, 1897206: 0.00807957430908608, 1902624: 0.015777837712507622, 1907296: 0.006804294338656961, 1923274: 0.023400151226174448, 1929338: 0.007445073188211096, 1943640: 0.00724511089299784, 1946204: 0.0034143330426389036, 1950442: 0.0360369340132698, 1956255: 0.016236069879444984, 1959777: 0.01541858284066765, 1969515: 0.007025117053836013, 1975250: 0.005974732684181051, 1979873: 0.012903810989307953, 1981660: 0.017750624322808706, 1984246: 0.009792051286648935, 1994895: 0.007522226769708061, 1999475: 0.015492548254550206, 1999636: 0.004831726890148428, 2002497: 0.004131085899675947, 2005216: 0.0032667037055470706, 2009711: 0.0033275519190415497, 2012983: 0.006597956156316056, 2030607: 0.004731770635613958, 2032271: 0.011698375271270572, 2036409: 0.006884194284477904, 2040288: 0.020810603100943705, 2045055: 0.013759510036532408, 2047222: 0.0020841416443027165, 2051423: 0.004472310274839373, 2052211: 0.03381715985957595, 2052387: 0.005593150101248476, 2054954: 0.015125528444976936, 2068329: 0.002713243475387003, 2074655: 0.004057394672765191, 2076169: 0.006294988777695334, 2077960: 0.007332513447083998, 2078529: 0.01176387626230337, 2095532: 0.028818717655424424, 2103762: 0.0065093115168871445, 2108776: 0.003107625702658261, 2110221: 0.009771816288063203, 2117988: 0.010448702145768967, 2126501: 0.006815562850317942, 2132969: 0.015737097398967875, 2134361: 0.0050524891920902615, 2142071: 0.004752416281144228, 2152015: 0.017336248646976606, 2152196: 0.012367101581641738, 2161511: 0.006855335886515745, 2190209: 0.01648918364704979, 2199665: 0.0057457320762190995, 2199987: 0.013709098927302545, 2203853: 0.12527018019800126, 2208584: 0.025518902009089982, 2213921: 0.012981866538710004, 2231973: 0.009347872601530985, 2240648: 0.003945570085790095, 2246339: 0.021150065353782985, 2247376: 0.005662520529728023, 2248622: 0.00980459263423654, 2252455: 0.0121188662658834, 2258017: 0.011224478179876332, 2258995: 0.019152886476833438, 2269888: 0.04159588142077898, 2295417: 0.02706237220942167, 2297090: 0.007757830777963506, 2298022: 0.02825734602860487, 2333593: 0.38748285122933906, 2337323: 0.0144753506688925, 2380213: 0.010579544098260106, 2381862: 0.0044031910726810685, 2385217: 0.004825262390367112, 2385806: 0.009725839119068994, 2386093: 0.006032960285449644, 2386481: 0.005055409653395169, 2387344: 0.013761156209494613, 2387993: 0.0042354558507055814, 2390053: 0.01680956345060322, 2399020: 0.003042573860658726, 2399742: 0.03126612224020393, 2403126: 0.0052875983414900725, 2413296: 0.012419648790188004, 2423824: 0.007596822505539736, 2425344: 0.016092370252812634, 2432299: 0.007480820961187839, 2446518: 0.02336450833780417, 2453923: 0.0031970899563084766, 2474625: 0.03506659426225439, 2489613: 0.007658981861722788, 2495537: 0.002586210151671363, 2500271: 0.006794833584568023, 2509885: 0.0074743850947858095, 2520434: 0.01810159158721789, 2541491: 0.0041955919322627586, 2546904: 0.012908248144696606, 2550824: 0.013032015089968284, 2555865: 0.014681021336209101, 2564605: 0.007215327418452433, 2565663: 0.01535854561067808, 2568868: 0.012999679172647412, 2570959: 0.004061187081816993, 2575380: 0.009085303345241838, 2581217: 0.022795931694895823, 2589070: 0.007671228806919428, 2596759: 0.015525763126250395, 2606761: 0.03511182751873402, 2608233: 0.04113412999506268, 2612612: 0.004230269194853877, 2621344: 0.014315661250827358, 2626421: 0.03508285582688044, 2636347: 0.039618839725316955, 2650227: 0.00860809370451798, 2668736: 0.04512611003127947, 2675881: 0.0066149302285164425, 2682907: 0.009709131278327973, 2698183: 0.011201133791754829, 2702930: 0.03410971347780978, 2711314: 0.0038011557849063453, 2720954: 0.005229905154364819, 2730731: 0.0047858594413366, 2732267: 0.008746401601375941, 2738057: 0.006605312024296208, 2766942: 0.012557322768494554, 2775579: 0.03423680344201244, 2794874: 0.009346257901710377, 2797868: 0.008954907898831485, 2810191: 0.004037476706902819, 2831887: 0.02656898020259589, 2833980: 0.013730953290592676, 2837891: 0.03202649380897324, 2865013: 0.008827168058925994, 2881547: 0.16796994115907887, 2881613: 0.05511381739890778, 2899729: 0.016082155445335228, 2905253: 0.028921309402355103, 2933438: 0.016486339190244385, 2941963: 0.002634132931509652, 2945076: 0.016898594719982216, 2947322: 0.0043623899636968345, 2963622: 0.009835086920862018, 2963902: 0.012288535060015909, 2968175: 0.005306604230272378, 2997690: 0.017139525097750526, 3012923: 0.005662880955798398, 3013373: 0.005150232324028, 3039817: 0.06255155146023333, 3046256: 0.01845239048820426, 3053003: 0.03148050083492278, 3057990: 0.005350233111847975, 3067569: 0.006681405123642865, 3080697: 0.0036463797599699823, 3098266: 0.020607209023085986, 3107577: 0.00535879829391252, 3108484: 0.015678589634136923, 3111871: 0.09991456641249916, 3112548: 0.0395380490915648, 3115732: 0.004278395275977956, 3127300: 0.012404369271678163, 3133549: 0.010804316247780645, 3136619: 0.005198405862031324, 3141956: 0.016929248865893944, 3178385: 0.0055663853829479495, 3182759: 0.006791937128782721, 3188121: 0.006096051424018719, 3188952: 0.004496124293133903, 3190097: 0.005977347113300961, 3196517: 0.026603191005445805, 3206057: 0.009994545622825394, 3214240: 0.007092852361021897, 3223727: 0.04190542266365824, 3233153: 0.013676252457701883, 3235536: 0.006322602254927035, 3240723: 0.009437049625601846, 3252816: 0.022151780905511093, 3275717: 0.028765988156197825, 3280233: 0.007184935210027339, 3286723: 0.006629656693777994, 3287760: 0.007165924807169699, 3293969: 0.004939322206406472, 3294758: 0.020694812480721927, 3322361: 0.0038920305753832405, 3328852: 0.011339100061320459, 3332410: 0.006879730651771164, 3342275: 0.018888215287573777, 3357705: 0.008259181560791954, 3371574: 0.005325055434625292, 3378227: 0.019936461815781265, 3383895: 0.007045893949080794, 3396753: 0.005774482428914432, 3403854: 0.03656034136847858, 3450096: 0.010140268999560652, 3461736: 0.003841454162605737, 3463398: 0.005979491606452802, 3466910: 0.006121670089966307, 3470969: 0.007027328970966161, 3473503: 0.005191941134377606, 3478140: 0.007492026507572864, 3493102: 0.006115869215445489, 3502051: 0.005063954183372852, 3505049: 0.008069585543850812, 3511512: 0.005275281664436698, 3513027: 0.00547181726047272, 3524766: 0.005163273982029118, 3528947: 0.011740254273465308, 3533082: 0.016771179299098674, 3546873: 0.08604007512724265, 3577886: 0.00917204434112576, 3587235: 0.0075841726283139566, 3594951: 0.010602310748297124, 3596573: 0.044233466211079014, 3602651: 0.009477704637885685, 3606300: 0.01674708881311579, 3609466: 0.02376127879068868, 3610075: 0.007559585096071822, 3611109: 0.02053593969711303, 3626050: 0.003312135617325746, 3631020: 0.014769625504693558, 3644514: 0.006933586262461426, 3651805: 0.010248902524890463, 3653602: 0.03757460930959161, 3660182: 0.012808133292199937, 3664299: 0.03962951560892158, 3673376: 0.009043244477489533, 3720007: 0.0388021653705664, 3735620: 0.0019997758455790157, 3738164: 0.004881922338393507, 3746367: 0.007406955162794775, 3768042: 0.016010773269877782, 3781784: 0.007432398386598188, 3781845: 0.00890533578085914, 3782493: 0.014546452016460652, 3828139: 0.02050368418612323, 3845894: 0.006142012956272166, 3868233: 0.009354793679736828, 3881265: 0.04967359852675533, 3881415: 0.05033245728661072, 3883838: 0.009426289114386152, 3902658: 0.008029415833153907, 3923466: 0.006884375085939847, 3945278: 0.005848035796063475, 3960323: 0.01576111629044147, 3965223: 0.005944442288971963, 3997367: 0.04304052652018548, 4023588: 0.008463753330195474, 4028754: 0.009619948837730619, 26726864: 0.011576349652269257, 26763420: 0.0064010879046276364, 26775738: 0.0034660219269414217, 26866372: 0.006389172173259236, 26879832: 0.014587288683638979, 26880450: 0.009806432454120238, 26941571: 0.003444103045837742, 26951370: 0.0030175592938524076, 26952693: 0.009950376869709123, 26999426: 0.002399730750234913, 27051151: 0.004341612714852248, 56598843: 0.02589267862153152, 56643734: 0.019933131782959534, 56721897: 0.004713890357880884, 56731447: 0.017856076037410216, 56758995: 0.006901819651665994, 56789255: 0.00399132423262744, 56833348: 0.03736504231688096, 6908561: 0.007959087992141706, 6920292: 0.009689927267207278, 6931929: 0.010280973987055889, 6933106: 0.004898764732493064, 6939163: 0.0040134553714561505, 6956596: 0.016206766633453686, 6972293: 0.0372781650764004, 6974438: 0.017809432322508627, 6984004: 0.005807204104716561, 6984468: 0.02374657799348637, 7036255: 0.011807755955806434, 7043619: 0.006710528771471162, 44629591: 0.011026523762107051, 44674524: 0.015383257749693327, 23678545: 0.02603564283212841, 17345999: 0.009221636325561987, 17362858: 0.008614391798136736, 17402165: 0.0058504739567862216, 17412253: 0.014182579923722398, 17418777: 0.0029671303288074037, 17452177: 0.008015515910149231, 20505468: 0.0316138554555721}\n"
          ]
        }
      ]
    },
    {
      "cell_type": "code",
      "source": [
        "# # print(tf_term_doc_text.take(2))\n",
        "# N = len(inverted_text.DL)\n",
        "# df_dict = inverted_text.df\n",
        "# # print(df_dict)\n",
        "# # tfidf_docs_text = tf_term_doc_text.map(lambda x : (x[0], calculate_tfidf_doc(x[1], df_dict, N)))\n",
        "# # print(tfidf_docs_text.take(1))\n",
        "# # print(tf_term_doc_text.flatMapValues(lambda x : x).take(4))\n",
        "# # .groupByKey().mapValues(list).take(2))\n",
        "\n",
        "# tfidf_docs_text = calculate_tfidf_doc(tf_term_doc_text, inverted_text)\n",
        "# # print(tfidf_docs_text.groupByKey().mapValues(list).take(1))\n",
        "# tfidf_docs_text_grouped = tfidf_docs_text.groupByKey().mapValues(list).collect()\n",
        "# print(tfidf_docs_text.take(7))\n",
        "# print(tfidf_docs_text_grouped)\n",
        "# # print(tf_term_doc_text.flatMapValues(lambda x: x).take(2))\n"
      ],
      "metadata": {
        "colab": {
          "base_uri": "https://localhost:8080/",
          "height": 340
        },
        "id": "AFAz8oeqqbOi",
        "outputId": "a1527fa5-9b43-433f-cdd7-ee07ff919ca2"
      },
      "execution_count": 61,
      "outputs": [
        {
          "output_type": "error",
          "ename": "NameError",
          "evalue": "ignored",
          "traceback": [
            "\u001b[0;31m---------------------------------------------------------------------------\u001b[0m",
            "\u001b[0;31mNameError\u001b[0m                                 Traceback (most recent call last)",
            "\u001b[0;32m<ipython-input-61-01f43fc523ff>\u001b[0m in \u001b[0;36m<module>\u001b[0;34m()\u001b[0m\n\u001b[1;32m      8\u001b[0m \u001b[0;31m# .groupByKey().mapValues(list).take(2))\u001b[0m\u001b[0;34m\u001b[0m\u001b[0;34m\u001b[0m\u001b[0;34m\u001b[0m\u001b[0m\n\u001b[1;32m      9\u001b[0m \u001b[0;34m\u001b[0m\u001b[0m\n\u001b[0;32m---> 10\u001b[0;31m \u001b[0mtfidf_docs_text\u001b[0m \u001b[0;34m=\u001b[0m \u001b[0mcalculate_tfidf_doc\u001b[0m\u001b[0;34m(\u001b[0m\u001b[0mtf_term_doc_text\u001b[0m\u001b[0;34m,\u001b[0m \u001b[0minverted_text\u001b[0m\u001b[0;34m)\u001b[0m\u001b[0;34m\u001b[0m\u001b[0;34m\u001b[0m\u001b[0m\n\u001b[0m\u001b[1;32m     11\u001b[0m \u001b[0;31m# print(tfidf_docs_text.groupByKey().mapValues(list).take(1))\u001b[0m\u001b[0;34m\u001b[0m\u001b[0;34m\u001b[0m\u001b[0;34m\u001b[0m\u001b[0m\n\u001b[1;32m     12\u001b[0m \u001b[0mtfidf_docs_text_grouped\u001b[0m \u001b[0;34m=\u001b[0m \u001b[0mtfidf_docs_text\u001b[0m\u001b[0;34m.\u001b[0m\u001b[0mgroupByKey\u001b[0m\u001b[0;34m(\u001b[0m\u001b[0;34m)\u001b[0m\u001b[0;34m.\u001b[0m\u001b[0mmapValues\u001b[0m\u001b[0;34m(\u001b[0m\u001b[0mlist\u001b[0m\u001b[0;34m)\u001b[0m\u001b[0;34m.\u001b[0m\u001b[0mcollect\u001b[0m\u001b[0;34m(\u001b[0m\u001b[0;34m)\u001b[0m\u001b[0;34m\u001b[0m\u001b[0;34m\u001b[0m\u001b[0m\n",
            "\u001b[0;32m<ipython-input-60-206209b68cd9>\u001b[0m in \u001b[0;36mcalculate_tfidf_doc\u001b[0;34m(tf_term_doc, index)\u001b[0m\n\u001b[1;32m     16\u001b[0m   \u001b[0mtf_term_doc\u001b[0m \u001b[0;34m=\u001b[0m \u001b[0mtf_term_doc\u001b[0m\u001b[0;34m.\u001b[0m\u001b[0mflatMapValues\u001b[0m\u001b[0;34m(\u001b[0m\u001b[0;32mlambda\u001b[0m \u001b[0mx\u001b[0m \u001b[0;34m:\u001b[0m \u001b[0mx\u001b[0m\u001b[0;34m)\u001b[0m\u001b[0;34m\u001b[0m\u001b[0;34m\u001b[0m\u001b[0m\n\u001b[1;32m     17\u001b[0m   \u001b[0mtfidf_docs_terms\u001b[0m \u001b[0;34m=\u001b[0m \u001b[0mtf_term_doc\u001b[0m\u001b[0;34m.\u001b[0m\u001b[0mmap\u001b[0m\u001b[0;34m(\u001b[0m\u001b[0;32mlambda\u001b[0m \u001b[0mx\u001b[0m \u001b[0;34m:\u001b[0m \u001b[0;34m(\u001b[0m\u001b[0mx\u001b[0m\u001b[0;34m[\u001b[0m\u001b[0;36m0\u001b[0m\u001b[0;34m]\u001b[0m\u001b[0;34m,\u001b[0m \u001b[0;34m(\u001b[0m\u001b[0mx\u001b[0m\u001b[0;34m[\u001b[0m\u001b[0;36m1\u001b[0m\u001b[0;34m]\u001b[0m\u001b[0;34m[\u001b[0m\u001b[0;36m0\u001b[0m\u001b[0;34m]\u001b[0m \u001b[0;34m,\u001b[0m\u001b[0mx\u001b[0m\u001b[0;34m[\u001b[0m\u001b[0;36m1\u001b[0m\u001b[0;34m]\u001b[0m\u001b[0;34m[\u001b[0m\u001b[0;36m1\u001b[0m\u001b[0;34m]\u001b[0m \u001b[0;34m*\u001b[0m \u001b[0;34m(\u001b[0m\u001b[0mmath\u001b[0m\u001b[0;34m.\u001b[0m\u001b[0mlog\u001b[0m\u001b[0;34m(\u001b[0m\u001b[0mN\u001b[0m\u001b[0;34m/\u001b[0m\u001b[0mdf_dict\u001b[0m\u001b[0;34m[\u001b[0m\u001b[0mx\u001b[0m\u001b[0;34m[\u001b[0m\u001b[0;36m1\u001b[0m\u001b[0;34m]\u001b[0m\u001b[0;34m[\u001b[0m\u001b[0;36m0\u001b[0m\u001b[0;34m]\u001b[0m\u001b[0;34m]\u001b[0m\u001b[0;34m,\u001b[0m\u001b[0;36m10\u001b[0m\u001b[0;34m)\u001b[0m\u001b[0;34m)\u001b[0m\u001b[0;34m)\u001b[0m\u001b[0;34m)\u001b[0m\u001b[0;34m)\u001b[0m\u001b[0;34m\u001b[0m\u001b[0;34m\u001b[0m\u001b[0m\n\u001b[0;32m---> 18\u001b[0;31m   \u001b[0mtfidf_docs\u001b[0m \u001b[0;34m=\u001b[0m \u001b[0mtfidf_docs_terms\u001b[0m\u001b[0;34m.\u001b[0m\u001b[0mmap\u001b[0m\u001b[0;34m(\u001b[0m\u001b[0;32mlambda\u001b[0m \u001b[0mx\u001b[0m \u001b[0;34m:\u001b[0m \u001b[0mx\u001b[0m\u001b[0;34m[\u001b[0m\u001b[0;36m0\u001b[0m\u001b[0;34m]\u001b[0m\u001b[0;34m,\u001b[0m \u001b[0mx\u001b[0m\u001b[0;34m[\u001b[0m\u001b[0;36m1\u001b[0m\u001b[0;34m]\u001b[0m\u001b[0;34m[\u001b[0m\u001b[0;36m1\u001b[0m\u001b[0;34m]\u001b[0m\u001b[0;34m)\u001b[0m\u001b[0;34m\u001b[0m\u001b[0;34m\u001b[0m\u001b[0m\n\u001b[0m\u001b[1;32m     19\u001b[0m   \u001b[0;32mreturn\u001b[0m \u001b[0mtfidf_docs\u001b[0m\u001b[0;34m\u001b[0m\u001b[0;34m\u001b[0m\u001b[0m\n",
            "\u001b[0;31mNameError\u001b[0m: name 'x' is not defined"
          ]
        }
      ]
    },
    {
      "cell_type": "code",
      "source": [
        "TUPLE_SIZE = 6       \n",
        "TF_MASK = 2 ** 16 - 1 # Masking the 16 low bits of an integer\n",
        "from contextlib import closing\n",
        "\n",
        "def read_posting_list(inverted, w):\n",
        "  with closing(MultiFileReader()) as reader:\n",
        "    locs = inverted.posting_locs[w]\n",
        "    b = reader.read(locs, inverted.df[w] * TUPLE_SIZE)\n",
        "    posting_list = []\n",
        "    for i in range(inverted.df[w]):\n",
        "      doc_id = int.from_bytes(b[i*TUPLE_SIZE:i*TUPLE_SIZE+4], 'big')\n",
        "      tf = int.from_bytes(b[i*TUPLE_SIZE+4:(i+1)*TUPLE_SIZE], 'big')\n",
        "      posting_list.append((doc_id, tf))\n",
        "    return posting_list"
      ],
      "metadata": {
        "id": "et0X-R_-Dmaw"
      },
      "execution_count": 25,
      "outputs": []
    },
    {
      "cell_type": "code",
      "source": [
        "# pl_title = read_posting_list(inverted_title, 'mask')\n",
        "# pl_text = read_posting_list(inverted_text, 'mask')\n",
        "# df_title = len(pl_title)\n",
        "# df_text = len(pl_text)\n",
        "\n",
        "# # lst = [23862, 23329, 53672527, 21356332, 4920126, 5250192, 819149, 46448252, 83036, 88595, 18942, 696712, 2032271, 1984246, 5204237, 645111, 18384111, 3673376, 25061839, 271890, 226402, 2380213, 1179348, 15586616, 50278739, 19701, 3596573, 4225907, 19160, 1235986, 6908561, 3594951, 18805500, 5087621, 25049240, 2432299, 381782, 9603954, 390263, 317752, 38007831, 2564605, 13370873, 2403126, 17402165, 23678545, 7837468, 23954341, 11505904, 196698, 34292335, 52042, 2247376, 15858, 11322015, 13062829, 38833779, 7800160, 24193668, 440018, 54351136, 28887886, 19620, 23045823, 43003632, 746577, 1211612, 8305253, 14985517, 30796675, 51800, 964717, 6146589, 13024, 11583987, 57294217, 27471338, 5479462]\n",
        "# lst = set([63631542, 821829, 633458, 63567907, 14208718, 7912947, 159546, 67759831, 7439323, 64192678, 40909056, 5322079, 63164437, 31728348, 12772, 1402997, 1156703, 1840653, 568164, 1814699, 2945076, 2565663, 442333, 33567480, 468313, 19718702, 987724, 903187, 1485962, 5003908, 4201044, 28086000, 28844729, 1265651, 4659608, 64966775, 55960921, 8970797, 4301719, 35892659, 2248622, 6939163, 48561519, 261396, 34298473, 12263290, 44258772, 25219375, 149426, 6558203, 46567337, 46784964, 6458321, 46576311, 18823362, 48315099, 56440599, 57159776, 74910, 67891964, 1702593, 560306, 1015304, 705756, 7479199, 57772096, 58946599, 1210300, 15716827, 34336876, 9040490, 439102, 264104, 11061915, 39774839, 34735506, 42174581, 66859257, 3293969, 16315, 23166476, 42812440, 66935753, 51990351, 36619752, 59863622, 38404, 64027932])\n",
        "# print(\"len\")\n",
        "# print(len(lst))\n",
        "# pl_id_title = [x[0] for x in pl_title]\n",
        "# print(pl_id_title)\n",
        "# pl_id_text = [x[0] for x in pl_text]\n",
        "# print(pl_id_text)\n",
        "\n",
        "# eq_title_text = len([x for x in pl_id_text if x in pl_id_title])\n",
        "# print(eq_title_text)\n",
        "\n",
        "# eq_text_lst = len([x for x in pl_id_text if x in lst])\n",
        "# print(eq_text_lst)\n",
        "\n",
        "# eq_title_lst = len([x for x in pl_id_title if x in lst])\n",
        "\n",
        "\n"
      ],
      "metadata": {
        "id": "GeBmjv0dDyE-"
      },
      "execution_count": 26,
      "outputs": []
    },
    {
      "cell_type": "code",
      "source": [
        "def get_posting_gen(index):\n",
        "    \"\"\"\n",
        "    This function returning the generator working with posting list.\n",
        "    \n",
        "    Parameters:\n",
        "    ----------\n",
        "    index: inverted index    \n",
        "    \"\"\"\n",
        "    words, pls = zip(*index.posting_lists_iter())\n",
        "    return words,pls"
      ],
      "metadata": {
        "id": "CrC58y2kdm5i"
      },
      "execution_count": 27,
      "outputs": []
    },
    {
      "cell_type": "code",
      "source": [
        "words, pls = get_posting_gen(inverted_text)"
      ],
      "metadata": {
        "id": "YNVjMhV9d8ye"
      },
      "execution_count": 28,
      "outputs": []
    },
    {
      "cell_type": "code",
      "source": [
        "def generate_query_tfidf_vector(query_to_search,index):\n",
        "    \"\"\" \n",
        "    Generate a vector representing the query. Each entry within this vector represents a tfidf score.\n",
        "    The terms representing the query will be the unique terms in the index.\n",
        "\n",
        "    We will use tfidf on the query as well. \n",
        "    For calculation of IDF, use log with base 10.\n",
        "    tf will be normalized based on the length of the query.    \n",
        "\n",
        "    Parameters:\n",
        "    -----------\n",
        "    query_to_search: list of tokens (str). This list will be preprocessed in advance (e.g., lower case, filtering stopwords, etc.'). \n",
        "                     Example: 'Hello, I love information retrival' --->  ['hello','love','information','retrieval']\n",
        "\n",
        "    index:           inverted index loaded from the corresponding files.\n",
        "    \n",
        "    Returns:\n",
        "    -----------\n",
        "    vectorized query with tfidf scores\n",
        "    \"\"\"\n",
        "    \n",
        "    epsilon = .0000001\n",
        "    total_vocab_size = len(index.term_total)\n",
        "    Q = np.zeros((total_vocab_size))\n",
        "    term_vector = list(index.term_total.keys()) \n",
        "    counter = Counter(query_to_search)\n",
        "    for token in np.unique(query_to_search):\n",
        "        if token in index.term_total.keys(): #avoid terms that do not appear in the index.               \n",
        "            tf = counter[token]/len(query_to_search) # term frequency divded by the length of the query\n",
        "            df = index.df[token]            \n",
        "            idf = math.log((len(index.DL))/(df+epsilon),10) #smoothing\n",
        "            try:\n",
        "                ind = term_vector.index(token)\n",
        "                Q[ind] = tf*idf                    \n",
        "            except:\n",
        "                pass\n",
        "    return Q\n",
        "    "
      ],
      "metadata": {
        "id": "aimdFzaQ6VOR"
      },
      "execution_count": 29,
      "outputs": []
    },
    {
      "cell_type": "code",
      "source": [
        " def get_candidate_documents_and_scores(query_to_search,index,words,pls):\n",
        "    \"\"\"\n",
        "    Generate a dictionary representing a pool of candidate documents for a given query. This function will go through every token in query_to_search\n",
        "    and fetch the corresponding information (e.g., term frequency, document frequency, etc.') needed to calculate TF-IDF from the posting list.\n",
        "    Then it will populate the dictionary 'candidates.'\n",
        "    For calculation of IDF, use log with base 10.\n",
        "    tf will be normalized based on the length of the document.\n",
        "    \n",
        "    Parameters:\n",
        "    -----------\n",
        "    query_to_search: list of tokens (str). This list will be preprocessed in advance (e.g., lower case, filtering stopwords, etc.'). \n",
        "                     Example: 'Hello, I love information retrival' --->  ['hello','love','information','retrieval']\n",
        "\n",
        "    index:           inverted index loaded from the corresponding files.\n",
        "\n",
        "    words,pls: generator for working with posting.\n",
        "    Returns:\n",
        "    -----------\n",
        "    dictionary of candidates. In the following format:\n",
        "                                                               key: pair (doc_id,term)\n",
        "                                                               value: tfidf score. \n",
        "    \"\"\"\n",
        "    candidates = {}\n",
        "    N = len(index.DL)\n",
        "    for term in np.unique(query_to_search):        \n",
        "        if term in words:            \n",
        "            list_of_doc = pls[words.index(term)]\n",
        "            normlized_tfidf = [(doc_id,(freq/index.DL[doc_id])*math.log(N/index.df[term],10)) for doc_id, freq in list_of_doc]           \n",
        "            for doc_id, tfidf in normlized_tfidf:\n",
        "                candidates[(doc_id,term)] = candidates.get((doc_id,term), 0) + tfidf               \n",
        "    return candidates\n",
        "\n"
      ],
      "metadata": {
        "id": "QrixEDV8XsPK"
      },
      "execution_count": 30,
      "outputs": []
    },
    {
      "cell_type": "code",
      "source": [
        "def generate_document_tfidf_matrix(query_to_search,index,words,pls):\n",
        "    \"\"\"\n",
        "    Generate a DataFrame `D` of tfidf scores for a given query. \n",
        "    Rows will be the documents candidates for a given query\n",
        "    Columns will be the unique terms in the index.\n",
        "    The value for a given document and term will be its tfidf score.\n",
        "    \n",
        "    Parameters:\n",
        "    -----------\n",
        "    query_to_search: list of tokens (str). This list will be preprocessed in advance (e.g., lower case, filtering stopwords, etc.'). \n",
        "                     Example: 'Hello, I love information retrival' --->  ['hello','love','information','retrieval']\n",
        "\n",
        "    index:           inverted index loaded from the corresponding files.\n",
        "\n",
        "    words,pls: generator for working with posting.\n",
        "    Returns:\n",
        "    -----------\n",
        "    DataFrame of tfidf scores.\n",
        "    \"\"\"\n",
        "    \n",
        "    total_vocab_size = len(index.term_total)\n",
        "    candidates_scores = get_candidate_documents_and_scores(query_to_search,index,words,pls) #We do not need to utilize all document. Only the docuemnts which have corrspoinding terms with the query.\n",
        "    unique_candidates = np.unique([doc_id for doc_id, freq in candidates_scores.keys()])\n",
        "    D = np.zeros((len(unique_candidates), total_vocab_size))\n",
        "    D = pd.DataFrame(D)\n",
        "    \n",
        "    D.index = unique_candidates\n",
        "    D.columns = index.term_total.keys()\n",
        "\n",
        "    for key in candidates_scores:\n",
        "        tfidf = candidates_scores[key]\n",
        "        doc_id, term = key    \n",
        "        D.loc[doc_id][term] = tfidf\n",
        "\n",
        "\n",
        "    return D\n",
        "     \n"
      ],
      "metadata": {
        "id": "soG6f4GIXxWL"
      },
      "execution_count": 31,
      "outputs": []
    },
    {
      "cell_type": "code",
      "source": [
        "def cosine_similarity(D,Q):\n",
        "    \"\"\"\n",
        "    Calculate the cosine similarity for each candidate document in D and a given query (e.g., Q).\n",
        "    Generate a dictionary of cosine similarity scores \n",
        "    key: doc_id\n",
        "    value: cosine similarity score\n",
        "    \n",
        "    Parameters:\n",
        "    -----------\n",
        "    D: DataFrame of tfidf scores.\n",
        "\n",
        "    Q: vectorized query with tfidf scores\n",
        "    \n",
        "    Returns:\n",
        "    -----------\n",
        "    dictionary of cosine similarity score as follows:\n",
        "                                                                key: document id (e.g., doc_id)\n",
        "                                                                value: cosine similarty score.\n",
        "    \"\"\"\n",
        "    dict_cos = {}\n",
        "    for doc_id, row in D.iterrows(): \n",
        "      vec_doc = row.to_numpy()\n",
        "      result = np.dot(vec_doc, Q)/(np.linalg.norm(vec_doc) * np.linalg.norm(Q))\n",
        "      dict_cos[doc_id] = result\n",
        "    return dict_cos\n",
        "\n",
        "\n",
        "    "
      ],
      "metadata": {
        "id": "hJ3wakHPX0p2"
      },
      "execution_count": 32,
      "outputs": []
    },
    {
      "cell_type": "code",
      "source": [
        "def get_top_n(sim_dict,N=3):\n",
        "    \"\"\" \n",
        "    Sort and return the highest N documents according to the cosine similarity score.\n",
        "    Generate a dictionary of cosine similarity scores \n",
        "   \n",
        "    Parameters:\n",
        "    -----------\n",
        "    sim_dict: a dictionary of similarity score as follows:\n",
        "                                                                key: document id (e.g., doc_id)\n",
        "                                                                value: similarity score. We keep up to 5 digits after the decimal point. (e.g., round(score,5))\n",
        "\n",
        "    N: Integer (how many documents to retrieve). By default N = 3\n",
        "    \n",
        "    Returns:\n",
        "    -----------\n",
        "    a ranked list of pairs (doc_id, score) in the length of N.\n",
        "    \"\"\"\n",
        "    lst = [(doc_id , builtins.round(score,5)) for doc_id, score in sim_dict.items()]\n",
        "    return sorted(lst, key = lambda x: x[1], reverse=True)[:N]\n",
        "    \n",
        "\n",
        "\n",
        "\n"
      ],
      "metadata": {
        "id": "rB0V9MQ4X37b"
      },
      "execution_count": 33,
      "outputs": []
    },
    {
      "cell_type": "code",
      "source": [
        "def get_topN_score_for_queries(queries_to_search,index,N=3):\n",
        "    \"\"\" \n",
        "    Generate a dictionary that gathers for every query its topN score.\n",
        "    \n",
        "    Parameters:\n",
        "    -----------\n",
        "    queries_to_search: a dictionary of queries as follows: \n",
        "                                                        key: query_id\n",
        "                                                        value: list of tokens.\n",
        "    index:           inverted index loaded from the corresponding files.    \n",
        "    N: Integer. How many documents to retrieve. This argument is passed to the topN function. By default N = 3, for the topN function. \n",
        "    \n",
        "    Returns:\n",
        "    -----------\n",
        "    return: a dictionary of queries and topN pairs as follows:\n",
        "                                                        key: query_id\n",
        "                                                        value: list of pairs in the following format:(doc_id, score). \n",
        "    \"\"\"\n",
        "    top_N = {}\n",
        "    for q_id, q in queries_to_search.items() :\n",
        "      Q = generate_query_tfidf_vector(q,index)\n",
        "      D = generate_document_tfidf_matrix(q, index, words, pls)\n",
        "      top_N[q_id] = get_top_n(cosine_similarity(D, Q), N)\n",
        "    return top_N\n"
      ],
      "metadata": {
        "id": "s3nT248CYTwi"
      },
      "execution_count": 34,
      "outputs": []
    },
    {
      "cell_type": "code",
      "source": [
        "dict_q = {}\n",
        "dict_q[1] = ['best', 'marvel', 'movie']\n",
        "tfidf_queries_score_train = get_topN_score_for_queries(dict_q, inverted_text,100)\n",
        "print(tfidf_queries_score_train)\n",
        "\n",
        "# tfidf_titles = get_topN_score_for_queries(dict_q, inverted_title,100)\n",
        "# print(tfidf_titles)\n",
        "\n",
        "\n",
        "lst = [57069491, 65967176, 42163310, 878659, 27306717, 41677925, 1074657, 44240443, 17296107, 60952488, 43603241, 22114132, 46208997, 36450985, 41974555, 56289672, 60616450, 59502488, 33038861, 61699239, 61651800, 39368416, 29129051, 55935213, 54537218, 62372638, 60774345, 63090183, 37497391, 51430647, 67229718, 9110929, 61329320, 44254295, 41974496, 200563, 58481694, 48530084, 56289572, 22144990, 612052, 59162931, 55511148, 55511147, 61073786, 59892, 36484005, 36484254, 66423851, 62482816, 1275470, 5676692, 7927053, 60754840, 26999426, 60744481, 56289553, 60463979, 701741, 60283633, 1129847, 36439749, 4451883, 55511155, 22144721, 45359871, 723126, 43655965, 57275457, 12673434, 43867095, 26763420, 39293265, 15003874, 41668588, 61592102, 67063919, 11891433, 64057670, 61513780, 39345917, 67063906, 1221476, 41008758, 60587000, 7729, 2152196, 5027882, 509738, 403585, 26866372, 1339248, 3473503, 4148655]\n",
        "\n",
        "lst_docs_returned = [x[0] for x in tfidf_queries_score_train[1]]\n",
        "\n",
        "lst_equal = [x for x in lst_docs_returned if x in lst]\n",
        "print(len(lst))\n",
        "print(len(lst_equal))\n",
        "\n",
        "lst_top_6 = [57069491, 65967176, 42163310, 878659, 27306717, 41677925]\n",
        "\n",
        "lst_indecies = [lst_docs_returned.index(x) for x in lst_top_6]\n",
        "print(lst_indecies)\n"
      ],
      "metadata": {
        "colab": {
          "base_uri": "https://localhost:8080/"
        },
        "id": "5GBAMYNQbjrh",
        "outputId": "311f559f-2542-4fd3-b014-f695b1059e10"
      },
      "execution_count": 40,
      "outputs": [
        {
          "output_type": "stream",
          "name": "stdout",
          "text": [
            "{1: [(723126, 1.0), (2720954, 1.0), (22144721, 0.99775), (9110929, 0.9973), (36439749, 0.99648), (26866372, 0.99504), (22144990, 0.99249), (44240443, 0.99004), (56289572, 0.97823), (41974496, 0.97664), (56289672, 0.9754), (39345917, 0.97175), (56289553, 0.97157), (5676692, 0.96672), (175537, 0.96291), (29129051, 0.96138), (41974555, 0.96081), (55511148, 0.96062), (6458321, 0.95187), (32158923, 0.95187), (57275457, 0.95187), (65766671, 0.95187), (6837398, 0.95167), (1275470, 0.94983), (36450985, 0.94926), (59162931, 0.94824), (45359871, 0.94539), (59892, 0.9445), (36484254, 0.94372), (26999426, 0.94349), (1129847, 0.93895), (48530084, 0.93777), (65967176, 0.92834), (44254295, 0.92824), (54537218, 0.92383), (41668588, 0.9221), (51430647, 0.91723), (43867095, 0.9109), (55511147, 0.90739), (36484005, 0.90484), (55935213, 0.90427), (58150649, 0.90306), (60774345, 0.90033), (12673434, 0.9), (19347339, 0.8978), (169672, 0.89756), (60616450, 0.8962), (41677925, 0.89198), (559356, 0.89), (37497391, 0.88885), (4451883, 0.8886), (6245494, 0.88857), (22114132, 0.87986), (58481694, 0.87802), (61651800, 0.877), (1339248, 0.87499), (20327832, 0.87347), (43603241, 0.87043), (15003874, 0.86897), (7438610, 0.86627), (60587000, 0.86429), (67063906, 0.86256), (200563, 0.85744), (181094, 0.85534), (55511155, 0.85148), (60283633, 0.84932), (62482816, 0.84824), (67229718, 0.84717), (39293265, 0.84334), (59502488, 0.8432), (46208997, 0.84104), (60754840, 0.83719), (7927053, 0.83332), (33038861, 0.82675), (60463979, 0.82645), (3478140, 0.82573), (11891433, 0.8248), (61329320, 0.8195), (57069491, 0.81808), (39368416, 0.816), (27306717, 0.81396), (1074657, 0.81177), (17296107, 0.81087), (61513780, 0.81087), (5027882, 0.81075), (63090183, 0.81053), (60952488, 0.80896), (7729, 0.80748), (67063919, 0.80611), (62372638, 0.80578), (403585, 0.80567), (878659, 0.80528), (2453923, 0.80522), (61073786, 0.80378), (41008758, 0.80286), (61592102, 0.80194), (701741, 0.80151), (42163310, 0.8002), (72852, 0.79853), (728321, 0.79853)]}\n",
            "94\n",
            "82\n",
            "[78, 32, 97, 91, 80, 47]\n"
          ]
        }
      ]
    },
    {
      "cell_type": "markdown",
      "source": [
        "# Run the app"
      ],
      "metadata": {
        "id": "6dW0y91OVu5J"
      }
    },
    {
      "cell_type": "code",
      "source": [
        "# you need to upload your implementation of search_app.py\n",
        "import search_frontend as se"
      ],
      "metadata": {
        "id": "7opNkV6uRHIv"
      },
      "execution_count": null,
      "outputs": []
    },
    {
      "cell_type": "code",
      "source": [
        "# uncomment the code below and execute to reload the module when you make \n",
        "# changes to search_frontend.py (after you upload again).\n",
        "# import importlib\n",
        "# importlib.reload(se)"
      ],
      "metadata": {
        "id": "oTGXXYEXV5l8"
      },
      "execution_count": null,
      "outputs": []
    },
    {
      "cell_type": "code",
      "source": [
        "from flask_ngrok import run_with_ngrok\n",
        "run_with_ngrok(se.app) \n",
        "se.app.run()"
      ],
      "metadata": {
        "id": "J5n9u9rFP_wD"
      },
      "execution_count": null,
      "outputs": []
    },
    {
      "cell_type": "markdown",
      "source": [
        "# Testing your app\n",
        "\n",
        "Once your app is running you can query it. You can simply do that by navigating to the URL that ngrok gave you above or through code in a different python session. For example, once the frontend app is running, you can navigate to:\n",
        "http://YOUR_SERVER_DOMAIN/search?query=hello+world where YOUR_SERVER_DOMAIN is something like XXXX-XX-XX-XX-XX.ngrok.io, which is printed above in Colab or that is your external IP on GCP.\n",
        "\n",
        "The code below shows how to issue a query from python. This is also how our testing code will issue queries to your search engine, so make sure to test your search engine this way after you deploy it to GCP and before submission. Command line instructions for deploying your search engine to GCP are available at `run_frontend_in_gcp.sh`. Note that we will not only issue training queries to your search engine, but also test queries, i.e. queries that you've never seen before."
      ],
      "metadata": {
        "id": "Na0MC_1nzDbi"
      }
    },
    {
      "cell_type": "code",
      "source": [
        "import json\n",
        "\n",
        "with open('queries_train.json', 'rt') as f:\n",
        "  queries = json.load(f)"
      ],
      "metadata": {
        "id": "EM5ePrRHojbG"
      },
      "execution_count": null,
      "outputs": []
    },
    {
      "cell_type": "code",
      "source": [
        "def average_precision(true_list, predicted_list, k=40):\n",
        "    true_set = frozenset(true_list)\n",
        "    predicted_list = predicted_list[:k]\n",
        "    precisions = []\n",
        "    for i,doc_id in enumerate(predicted_list):        \n",
        "        if doc_id in true_set:\n",
        "            prec = (len(precisions)+1) / (i+1)            \n",
        "            precisions.append(prec)\n",
        "    if len(precisions) == 0:\n",
        "        return 0.0\n",
        "    return round(sum(precisions)/len(precisions),3)"
      ],
      "metadata": {
        "id": "gWimZWCOy3Ei"
      },
      "execution_count": null,
      "outputs": []
    },
    {
      "cell_type": "code",
      "source": [
        "import requests\n",
        "from time import time\n",
        "# url = 'http://35.232.59.3:8080'\n",
        "# place the domain you got from ngrok or GCP IP below. \n",
        "url = 'http://XXXX-XX-XX-XX-XX.ngrok.io'\n",
        "\n",
        "qs_res = []\n",
        "for q, true_wids in queries.items():\n",
        "  duration, ap = None, None\n",
        "  t_start = time()\n",
        "  try:\n",
        "    res = requests.get(url + '/search', {'query': q}, timeout=35)\n",
        "    duration = time() - t_start\n",
        "    if res.status_code == 200:\n",
        "      pred_wids, _ = zip(*res.json())\n",
        "      ap = average_precision(true_wids, pred_wids)\n",
        "  except:\n",
        "    pass\n",
        "  \n",
        "  qs_res.append((q, duration, ap))"
      ],
      "metadata": {
        "id": "dYmNTq9u0ChK"
      },
      "execution_count": null,
      "outputs": []
    }
  ]
}