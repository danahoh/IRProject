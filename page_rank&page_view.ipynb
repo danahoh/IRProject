{
  "nbformat": 4,
  "nbformat_minor": 0,
  "metadata": {
    "colab": {
      "name": "page_rank&page_view.ipynb",
      "provenance": [],
      "collapsed_sections": []
    },
    "kernelspec": {
      "name": "python3",
      "display_name": "Python 3"
    },
    "language_info": {
      "name": "python"
    }
  },
  "cells": [
    {
      "cell_type": "code",
      "source": [
        "# Install a particular version of `google-cloud-storage` because (oddly enough) \n",
        "# the  version on Colab and GCP is old. A dependency error below is okay.\n",
        "!pip install -q google-cloud-storage==1.43.0"
      ],
      "metadata": {
        "id": "lAt6KT8xOgHH"
      },
      "execution_count": null,
      "outputs": []
    },
    {
      "cell_type": "code",
      "source": [
        "import sys\n",
        "from collections import Counter, OrderedDict\n",
        "import itertools\n",
        "from itertools import islice, count, groupby\n",
        "import pandas as pd\n",
        "import os\n",
        "import re\n",
        "from operator import itemgetter\n",
        "import nltk\n",
        "from nltk.stem.porter import *\n",
        "from nltk.corpus import stopwords\n",
        "from time import time\n",
        "from timeit import timeit\n",
        "from pathlib import Path\n",
        "import pickle\n",
        "import pandas as pd\n",
        "import numpy as np\n",
        "import math\n",
        "import builtins\n",
        "from google.cloud import storage\n",
        "\n",
        "import hashlib\n",
        "def _hash(s):\n",
        "    return hashlib.blake2b(bytes(s, encoding='utf8'), digest_size=5).hexdigest()\n",
        "\n",
        "\n"
      ],
      "metadata": {
        "colab": {
          "base_uri": "https://localhost:8080/"
        },
        "id": "JyPOiIYZ8zPz",
        "outputId": "482e15bd-df55-4490-cf1d-1fe4d81a12fa"
      },
      "execution_count": null,
      "outputs": [
        {
          "output_type": "stream",
          "name": "stdout",
          "text": [
            "[nltk_data] Downloading package stopwords to /root/nltk_data...\n",
            "[nltk_data]   Package stopwords is already up-to-date!\n"
          ]
        }
      ]
    },
    {
      "cell_type": "code",
      "source": [
        "def get_pagerank():\n",
        "    ''' Returns PageRank values for a list of provided wiki article IDs. \n",
        "\n",
        "        Test this by issuing a POST request to a URL like:\n",
        "          http://YOUR_SERVER_DOMAIN/get_pagerank\n",
        "        with a json payload of the list of article ids. In python do:\n",
        "          import requests\n",
        "          requests.post('http://YOUR_SERVER_DOMAIN/get_pagerank', json=[1,5,8])\n",
        "        As before YOUR_SERVER_DOMAIN is something like XXXX-XX-XX-XX-XX.ngrok.io\n",
        "        if you're using ngrok on Colab or your external IP on GCP.\n",
        "    Returns:\n",
        "    --------\n",
        "        list of floats:\n",
        "          list of PageRank scores that correrspond to the provided article IDs.\n",
        "    '''\n",
        "    bucket_name = '208987248' \n",
        "    client = storage.Client()\n",
        "    file_name = \"pr/pr_part-00000-c1f636d8-972a-483c-a516-d1b60f8e868f-c000l.csv\"\n",
        "    bucket = client.get_bucket(bucket_name)\n",
        "    blob = bucket.get_blob(file_name)\n",
        "    content = blob.download_as_string()\n",
        "    df = pd.read_csv(BytesIO(content), header = None)\n",
        "    df.columns = ['id',\"pageRank\"]\n",
        "    df.set_index('id',inplace=True)\n",
        "    res = []\n",
        "    wiki_ids = request.get_json()\n",
        "    if len(wiki_ids) == 0:\n",
        "      return jsonify(res)\n",
        "    for i in wiki_ids:\n",
        "        try:\n",
        "            res.append(df.loc[3434750][\"pageRank\"])\n",
        "        except:\n",
        "            continue\n",
        "    return jsonify(res)"
      ],
      "metadata": {
        "id": "NFPeHmxefaRR"
      },
      "execution_count": null,
      "outputs": []
    },
    {
      "cell_type": "code",
      "source": [
        "from io import BytesIO\n",
        "bucket_name = '208987248' \n",
        "\n",
        "def open_gcp(file_name):\n",
        "    client = storage.Client(file_name)\n",
        "    bucket = client.bucket(bucket_name)\n",
        "    blob = bucket.get_blob(f'pv/' + file_name)\n",
        "    return blob.open('rb')\n",
        "\n",
        "\n",
        "def read_pickle(file_name):\n",
        "    stream = open_gcp(file_name+\".pkl\")\n",
        "    pick = pickle.load(stream)\n",
        "    stream.close()\n",
        "    return pick\n",
        "\n",
        "def get_pageview():\n",
        "    ''' Returns PageRank values for a list of provided wiki article IDs. \n",
        "\n",
        "        Test this by issuing a POST request to a URL like:\n",
        "          http://YOUR_SERVER_DOMAIN/get_pagerank\n",
        "        with a json payload of the list of article ids. In python do:\n",
        "          import requests\n",
        "          requests.post('http://YOUR_SERVER_DOMAIN/get_pagerank', json=[1,5,8])\n",
        "        As before YOUR_SERVER_DOMAIN is something like XXXX-XX-XX-XX-XX.ngrok.io\n",
        "        if you're using ngrok on Colab or your external IP on GCP.\n",
        "    Returns:\n",
        "    --------\n",
        "        list of floats:\n",
        "          list of PageRank scores that correrspond to the provided article IDs.\n",
        "    '''\n",
        "    res = []\n",
        "    wiki_ids = request.get_json()\n",
        "    if len(wiki_ids) == 0:\n",
        "        return jsonify(res)\n",
        "    wid2pv = read_pickle('pageviews-202108-user')\n",
        "    for i in wiki_ids:\n",
        "        res.append(wid2pv[i])\n",
        "    return jsonify(res)"
      ],
      "metadata": {
        "id": "NYX6JOZYfYX1"
      },
      "execution_count": null,
      "outputs": []
    }
  ]
}