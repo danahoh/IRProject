{
  "nbformat": 4,
  "nbformat_minor": 0,
  "metadata": {
    "colab": {
      "name": "Title Index.ipynb",
      "provenance": []
    },
    "kernelspec": {
      "name": "python3",
      "display_name": "Python 3"
    },
    "language_info": {
      "name": "python"
    }
  },
  "cells": [
    {
      "cell_type": "code",
      "execution_count": null,
      "metadata": {
        "id": "KdRQPWxeLmlz"
      },
      "outputs": [],
      "source": [
        "import sys\n",
        "from collections import Counter, OrderedDict\n",
        "import itertools\n",
        "from itertools import islice, count, groupby\n",
        "import pandas as pd\n",
        "import os\n",
        "import re\n",
        "from operator import itemgetter\n",
        "import nltk\n",
        "from nltk.stem.porter import *\n",
        "from nltk.corpus import stopwords\n",
        "from time import time\n",
        "from timeit import timeit\n",
        "from pathlib import Path\n",
        "import pickle\n",
        "import pandas as pd\n",
        "import numpy as np\n",
        "import math\n",
        "from operator import add\n",
        "import builtins\n",
        "from google.cloud import storage\n",
        "from collections import defaultdict\n",
        "\n",
        "import hashlib\n",
        "def _hash(s):\n",
        "    return hashlib.blake2b(bytes(s, encoding='utf8'), digest_size=5).hexdigest()\n",
        "\n",
        "nltk.download('stopwords')\n",
        "\n"
      ]
    },
    {
      "cell_type": "code",
      "source": [
        "!pip install -q google-cloud-storage==1.43.0\n",
        "!pip install -q graphframes"
      ],
      "metadata": {
        "id": "IgaB9RPJLrr3"
      },
      "execution_count": null,
      "outputs": []
    },
    {
      "cell_type": "code",
      "source": [
        "pip install nltk"
      ],
      "metadata": {
        "id": "6Dnra3Y-Luo1"
      },
      "execution_count": null,
      "outputs": []
    },
    {
      "cell_type": "code",
      "source": [
        "def open_gcp(file_name,dir_name):\n",
        "    client = storage.Client(file_name)\n",
        "    bucket = client.bucket(bucket_name)\n",
        "    blob = bucket.get_blob(f'postings_gcp{dir_name}/' + file_name)\n",
        "    return blob.open('rb')\n",
        "\n",
        "def read_pickle(file_name,dir_name):\n",
        "    stream = open_gcp(file_name+\".pickle\",dir_name)\n",
        "    pick = pickle.load(stream)\n",
        "    stream.close()\n",
        "    return pick\n",
        "\n",
        "def read_pkl(file_name,dir_name):\n",
        "    stream = open_gcp(file_name+\".pkl\",dir_name)\n",
        "    pick = pickle.load(stream)\n",
        "    stream.close()\n",
        "    return pick"
      ],
      "metadata": {
        "id": "xpDXIBFSLx1i"
      },
      "execution_count": null,
      "outputs": []
    },
    {
      "cell_type": "code",
      "source": [
        "def write_pickle(object_to_write,object_name ,bucket_name,dir_name):\n",
        "    with open(f\"{object_name}.pickle\", \"wb\") as f:\n",
        "        pickle.dump(object_to_write, f)\n",
        "    client = storage.Client()\n",
        "    bucket = client.bucket(bucket_name)\n",
        "    blob_posting_locs = bucket.blob(f\"postings_gcp/{dir_name}{object_name}.pickle\")\n",
        "    blob_posting_locs.upload_from_filename(f\"{object_name}.pickle\")\n",
        "\n",
        "def write_pkl(object_to_write,object_name ,bucket_name,dir_name):\n",
        "    with open(f\"{object_name}.pkl\", \"wb\") as f:\n",
        "        pickle.dump(object_to_write, f)\n",
        "    client = storage.Client()\n",
        "    bucket = client.bucket(bucket_name)\n",
        "    blob_posting_locs = bucket.blob(f\"postings_gcp/{dir_name}{object_name}.pkl\")\n",
        "    blob_posting_locs.upload_from_filename(f\"{object_name}.pkl\")\n",
        "\n"
      ],
      "metadata": {
        "id": "-IXv8vGtL06Z"
      },
      "execution_count": null,
      "outputs": []
    },
    {
      "cell_type": "code",
      "source": [
        "import pyspark\n",
        "from pyspark.sql import *\n",
        "from pyspark.sql.functions import *\n",
        "from pyspark import SparkContext, SparkConf, SparkFiles\n",
        "from pyspark.sql import SQLContext\n",
        "from pyspark.ml.feature import Tokenizer, RegexTokenizer\n",
        "from graphframes import *"
      ],
      "metadata": {
        "id": "C5inIqGVL4Tl"
      },
      "execution_count": null,
      "outputs": []
    },
    {
      "cell_type": "code",
      "source": [
        "!ls -l /usr/lib/spark/jars/graph*"
      ],
      "metadata": {
        "id": "I8WabMNFL69p"
      },
      "execution_count": null,
      "outputs": []
    },
    {
      "cell_type": "code",
      "source": [
        "bucket_name = '318457645' \n",
        "client = storage.Client()\n",
        "blobs = client.list_blobs(bucket_name)"
      ],
      "metadata": {
        "id": "_yIiJ7c6L9hL"
      },
      "execution_count": null,
      "outputs": []
    },
    {
      "cell_type": "code",
      "source": [
        "sc.addFile(\"/home/dataproc/inverted_index_gcp.py\")\n",
        "sys.path.insert(0,SparkFiles.getRootDirectory())"
      ],
      "metadata": {
        "id": "Yl_CF_kbL_7Z"
      },
      "execution_count": null,
      "outputs": []
    },
    {
      "cell_type": "code",
      "source": [
        "from inverted_index_gcp import *"
      ],
      "metadata": {
        "id": "9jszen2-MDrc"
      },
      "execution_count": null,
      "outputs": []
    },
    {
      "cell_type": "code",
      "source": [
        "full_path = \"gs://wikidata_preprocessed/*\"\n"
      ],
      "metadata": {
        "id": "pCdk7FWkMM9n"
      },
      "execution_count": null,
      "outputs": []
    },
    {
      "cell_type": "code",
      "source": [
        "\n",
        "df_data = spark.read.parquet(full_path)\n",
        "\n",
        "id_title = df_data.select('id','title')\n",
        "\n",
        "id_title = id_title.rdd\n",
        "\n",
        "inverted_title = InvertedIndex()"
      ],
      "metadata": {
        "id": "SLpi-hDAMP9o"
      },
      "execution_count": null,
      "outputs": []
    },
    {
      "cell_type": "code",
      "source": [
        "english_stopwords = frozenset(stopwords.words('english'))\n",
        "corpus_stopwords = [\"category\", \"references\", \"also\", \"external\", \"links\", \n",
        "                    \"may\", \"first\", \"see\", \"history\", \"people\", \"one\", \"two\", \n",
        "                    \"part\", \"thumb\", \"including\", \"second\", \"following\", \n",
        "                    \"many\", \"however\", \"would\"]\n",
        "RE_WORD = re.compile(r\"\"\"[\\#\\@\\w](['\\-]?\\w){2,24}\"\"\", re.UNICODE)\n",
        "\n",
        "all_stopwords = english_stopwords.union(corpus_stopwords)\n",
        "\n",
        "def word_count(id, text):\n",
        "\n",
        "    tokens = [token.group() for token in RE_WORD.finditer(text.lower())]\n",
        "    tokens = [token.group() for token in RE_WORD.finditer(text.lower())]\n",
        "    tokens = [x for x in tokens if x not in all_stopwords]\n",
        "    tuples = []\n",
        "    tf_dict = Counter(tokens)\n",
        "    res = []\n",
        "    [res.append(x) for x in tokens if x not in res]\n",
        "    for t in res:\n",
        "        tuples.append((t,(id,tf_dict[t])))\n",
        "    return tuples"
      ],
      "metadata": {
        "id": "0sq1krNiMXHn"
      },
      "execution_count": null,
      "outputs": []
    },
    {
      "cell_type": "code",
      "source": [
        "def count_doc_len(doc_id, text):\n",
        "    tokens = [token.group() for token in RE_WORD.finditer(text.lower())]\n",
        "    tokens = [token.group() for token in RE_WORD.finditer(text.lower())]\n",
        "    tokens = [x for x in tokens if x not in all_stopwords]\n",
        "    return (doc_id,len(tokens))"
      ],
      "metadata": {
        "id": "qDHG9dk_MbgY"
      },
      "execution_count": null,
      "outputs": []
    },
    {
      "cell_type": "code",
      "source": [
        "def tf_for_term_id(doc_id, text):\n",
        "    tokens = [token.group() for token in RE_WORD.finditer(text.lower())]\n",
        "    tokens = [token.group() for token in RE_WORD.finditer(text.lower())]\n",
        "    tokens = [x for x in tokens if x not in all_stopwords]\n",
        "    tuples = []\n",
        "    tf_dict = Counter(tokens)\n",
        "    res = []\n",
        "    [res.append(x) for x in tokens if x not in res]\n",
        "    for t in res:\n",
        "        tuples.append((t,tf_dict[t]))\n",
        "    return tuples"
      ],
      "metadata": {
        "id": "lJYYo8xUMdhn"
      },
      "execution_count": null,
      "outputs": []
    },
    {
      "cell_type": "code",
      "source": [
        "word_counts_title = id_title.flatMap(lambda x: word_count(x[0], x[1]))\n",
        "\n",
        "len_docs_title = id_title.map(lambda x: count_doc_len(x[0], x[1]))\n",
        "len_docs_title = len_docs_title.collectAsMap()\n",
        "inverted_title.DL = len_docs_title\n"
      ],
      "metadata": {
        "id": "m1DGsSZZMfki"
      },
      "execution_count": null,
      "outputs": []
    },
    {
      "cell_type": "code",
      "source": [
        "def reduce_word_counts(unsorted_pl):\n",
        "    return sorted(unsorted_pl)"
      ],
      "metadata": {
        "id": "edHqNUcxMlJU"
      },
      "execution_count": null,
      "outputs": []
    },
    {
      "cell_type": "code",
      "source": [
        "#create postings and sort by doc_id\n",
        "postings_title = word_counts_title.groupByKey().mapValues(reduce_word_counts)\n"
      ],
      "metadata": {
        "id": "kqkmJTLWMpxJ"
      },
      "execution_count": null,
      "outputs": []
    },
    {
      "cell_type": "code",
      "source": [
        "total_terms_title = postings_title.flatMapValues(lambda x : x).map(lambda x: (x[0],x[1][1])).reduceByKey(add)\n",
        "inverted_title.term_total = total_terms_title.collectAsMap()"
      ],
      "metadata": {
        "id": "cjVNCwCXMwa7"
      },
      "execution_count": null,
      "outputs": []
    },
    {
      "cell_type": "code",
      "source": [
        "def calculate_df(postings):\n",
        "    rdd2 = postings.map(lambda x: (x[0], len(x[1]))) \n",
        "    return rdd2"
      ],
      "metadata": {
        "id": "1CF242NkMzfv"
      },
      "execution_count": null,
      "outputs": []
    },
    {
      "cell_type": "code",
      "source": [
        "w2df_title = calculate_df(postings_title)\n",
        "w2df_title_dict = w2df_title.collectAsMap()"
      ],
      "metadata": {
        "id": "uKViTpHGM2CR"
      },
      "execution_count": null,
      "outputs": []
    },
    {
      "cell_type": "code",
      "source": [
        "NUM_BUCKETS = 124\n",
        "def token2bucket_id(token):\n",
        "    return int(_hash(token),16) % NUM_BUCKETS\n",
        "\n",
        "def partition_postings_and_write(postings,dir_name):\n",
        "    rdd2 = postings.map(lambda x: (token2bucket_id(x[0]), x)).groupByKey()\n",
        "    rdd3 = rdd2.map(lambda x: InvertedIndex.write_a_posting_list(x,bucket_name,dir_name))\n",
        "    return rdd3"
      ],
      "metadata": {
        "id": "q_zahV4_M8B9"
      },
      "execution_count": null,
      "outputs": []
    },
    {
      "cell_type": "code",
      "source": [
        "postings_locs_title = partition_postings_and_write(postings_title,'title').collect()\n"
      ],
      "metadata": {
        "id": "nk1Zjz9EM-zU"
      },
      "execution_count": null,
      "outputs": []
    },
    {
      "cell_type": "code",
      "source": [
        "super_posting_locs_title = defaultdict(list)\n",
        "for blob in client.list_blobs(bucket_name, prefix='postings_gcptitle'):\n",
        "    if not blob.name.endswith(\"pickle\"):\n",
        "        continue\n",
        "    with blob.open(\"rb\") as f:\n",
        "        posting_locs = pickle.load(f)\n",
        "        for k, v in posting_locs.items():\n",
        "            super_posting_locs_title[k].extend(v)"
      ],
      "metadata": {
        "id": "HFQ2zh3kNC9G"
      },
      "execution_count": null,
      "outputs": []
    },
    {
      "cell_type": "code",
      "source": [
        "inverted_title.posting_locs = super_posting_locs_title"
      ],
      "metadata": {
        "id": "17dO17SwNNUC"
      },
      "execution_count": null,
      "outputs": []
    },
    {
      "cell_type": "code",
      "source": [
        "inverted_title.df = w2df_title_dict"
      ],
      "metadata": {
        "id": "3A-_pslFNRa1"
      },
      "execution_count": null,
      "outputs": []
    },
    {
      "cell_type": "code",
      "source": [
        "inverted_title.write_index('.', 'index_title')\n",
        "index_src = \"index_title.pkl\"\n",
        "index_dst = f'gs://{bucket_name}/postings_gcptitle/{index_src}'\n",
        "!gsutil cp $index_src $index_dst"
      ],
      "metadata": {
        "id": "5dxkDoOCNUFA"
      },
      "execution_count": null,
      "outputs": []
    }
  ]
}